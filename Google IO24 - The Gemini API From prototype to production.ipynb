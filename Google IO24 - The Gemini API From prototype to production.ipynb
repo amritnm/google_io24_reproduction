{
 "cells": [
  {
   "cell_type": "code",
   "execution_count": 4,
   "id": "f5991cd8",
   "metadata": {},
   "outputs": [],
   "source": [
    "# Library installation # needs restarts\n",
    "# ! pip install PyPDF2\n",
    "# ! apt-get install poppler-utils\n",
    "# ! pip install pdf2image\n",
    "# ! pip install --upgrade google-generativeai\n"
   ]
  },
  {
   "cell_type": "code",
   "execution_count": 10,
   "id": "4c72be96",
   "metadata": {},
   "outputs": [
    {
     "name": "stdout",
     "output_type": "stream",
     "text": [
      "zsh:1: no matches found: https://drive.google.com/drive/folders/1RfMScB0Y1LUQdW5tvjyYA4_D21H5HMaT?usp=sharing\r\n"
     ]
    }
   ],
   "source": [
    "# Downloading data from Google Drive\n",
    "!gdown --folder https://drive.google.com/drive/folders/1RfMScB0Y1LUQdW5tvjyYA4_D21H5HMaT?usp=sharing -O /content/data/"
   ]
  },
  {
   "cell_type": "code",
   "execution_count": 11,
   "id": "6081c042",
   "metadata": {},
   "outputs": [],
   "source": [
    "# Library\n",
    "from IPython.display import display, Markdown, Latex\n",
    "import google.generativeai as genai\n",
    "import PyPDF2\n",
    "from rich import print as rich_print\n",
    "from rich.markdown import Markdown as rich_Markdown\n",
    "  "
   ]
  },
  {
   "cell_type": "code",
   "execution_count": 12,
   "id": "283c6419",
   "metadata": {},
   "outputs": [],
   "source": [
    "# Authentication\n",
    "# from google.colab import userdata\n",
    "# genai.configure(api_key=userdata.get('api_key'))\n",
    "genai.configure(api_key = 'xxxxxxxxxxx')"
   ]
  },
  {
   "cell_type": "code",
   "execution_count": 13,
   "id": "7e901385",
   "metadata": {},
   "outputs": [],
   "source": [
    "# Set up the model\n",
    "from google.generativeai.types import HarmCategory, HarmBlockThreshold, GenerationConfig\n",
    "\n",
    "generation_config = GenerationConfig(\n",
    "    temperature=1,\n",
    "    max_output_tokens=8192,\n",
    ")\n",
    "\n",
    "safety_settings = {\n",
    "    HarmCategory.HARM_CATEGORY_HARASSMENT: HarmBlockThreshold.BLOCK_MEDIUM_AND_ABOVE,\n",
    "    HarmCategory.HARM_CATEGORY_HATE_SPEECH: HarmBlockThreshold.BLOCK_MEDIUM_AND_ABOVE,\n",
    "    HarmCategory.HARM_CATEGORY_SEXUALLY_EXPLICIT: HarmBlockThreshold.BLOCK_MEDIUM_AND_ABOVE,\n",
    "    HarmCategory.HARM_CATEGORY_DANGEROUS_CONTENT: HarmBlockThreshold.BLOCK_MEDIUM_AND_ABOVE,\n",
    "}\n",
    "\n",
    "\n",
    "model = genai.GenerativeModel(model_name=\"gemini-1.5-pro-latest\",\n",
    "                              generation_config=generation_config,\n",
    "                              safety_settings=safety_settings)\n",
    "\n",
    "model_flash = genai.GenerativeModel(model_name=\"gemini-1.5-flash-latest\",\n",
    "                              generation_config=generation_config,\n",
    "                              safety_settings=safety_settings)"
   ]
  },
  {
   "cell_type": "code",
   "execution_count": 14,
   "id": "0da1e0f1",
   "metadata": {},
   "outputs": [],
   "source": [
    "#@title Helper Functions\n",
    "## Helper Function\n",
    "\n",
    "def pdf_to_dict_str(file_path):\n",
    "    \"\"\"Reads a PDF file and returns a dictionary with page numbers as keys and page text as values.\"\"\"\n",
    "\n",
    "    with open(file_path, 'rb') as pdf_file:\n",
    "        pdf_reader = PyPDF2.PdfReader(pdf_file)\n",
    "        num_pages = len(pdf_reader.pages)\n",
    "\n",
    "        page_dict = {}\n",
    "        for page_num in range(num_pages):\n",
    "            page = pdf_reader.pages[page_num]\n",
    "            page_text = page.extract_text()\n",
    "            page_dict[page_num + 1] = page_text  # Page numbers start from 1\n",
    "\n",
    "        return str(page_dict)"
   ]
  },
  {
   "cell_type": "code",
   "execution_count": 15,
   "id": "0ebb6c01",
   "metadata": {},
   "outputs": [
    {
     "data": {
      "text/html": [
       "<pre style=\"white-space:pre;overflow-x:auto;line-height:normal;font-family:Menlo,'DejaVu Sans Mono',consolas,'Courier New',monospace\">Here are the key achievements for Google Cloud, as described in the blog post:                                     \n",
       "\n",
       "<span style=\"color: #808000; text-decoration-color: #808000; font-weight: bold\"> • </span><span style=\"font-weight: bold\">World's Largest Distributed Training Job:</span> Google Cloud ran what they believe is the world's largest publicly    \n",
       "<span style=\"color: #808000; text-decoration-color: #808000; font-weight: bold\">   </span>disclosed LLM distributed training job using 50,944 Cloud TPU v5e chips on a single training job.               \n",
       "<span style=\"color: #808000; text-decoration-color: #808000; font-weight: bold\"> • </span><span style=\"font-weight: bold\">Cloud TPU Multislice Training GA:</span>  They announced the general availability of Cloud TPU Multislice Training, a  \n",
       "<span style=\"color: #808000; text-decoration-color: #808000; font-weight: bold\">   </span>full-stack training offering supporting TPU v4 and v5e, designed for scalability, reliability, and ease of use. \n",
       "<span style=\"color: #808000; text-decoration-color: #808000; font-weight: bold\"> • </span><span style=\"font-weight: bold\">Open Source Contributions:</span> Several key components of the Multislice Training stack have been open-sourced,      \n",
       "<span style=\"color: #808000; text-decoration-color: #808000; font-weight: bold\">   </span>including the Accelerated Processing Kit (XPK), MaxText (a JAX LLM implementation), and Accurate Quantized      \n",
       "<span style=\"color: #808000; text-decoration-color: #808000; font-weight: bold\">   </span>Training (AQT) library.                                                                                         \n",
       "<span style=\"color: #808000; text-decoration-color: #808000; font-weight: bold\"> • </span><span style=\"font-weight: bold\">High Performance and Scaling Efficiency:</span> Achieved as high as 66.86% MFU with BF16 training on a single TPU v5e  \n",
       "<span style=\"color: #808000; text-decoration-color: #808000; font-weight: bold\">   </span>pod with strong scaling outcomes when expanding to 160 pods. They also achieved an impressive 5.32 exa-OP/s with\n",
       "<span style=\"color: #808000; text-decoration-color: #808000; font-weight: bold\">   </span>INT8 quantized training using the full 199-pod cluster.                                                         \n",
       "</pre>\n"
      ],
      "text/plain": [
       "Here are the key achievements for Google Cloud, as described in the blog post:                                     \n",
       "\n",
       "\u001b[1;33m • \u001b[0m\u001b[1mWorld's Largest Distributed Training Job:\u001b[0m Google Cloud ran what they believe is the world's largest publicly    \n",
       "\u001b[1;33m   \u001b[0mdisclosed LLM distributed training job using 50,944 Cloud TPU v5e chips on a single training job.               \n",
       "\u001b[1;33m • \u001b[0m\u001b[1mCloud TPU Multislice Training GA:\u001b[0m  They announced the general availability of Cloud TPU Multislice Training, a  \n",
       "\u001b[1;33m   \u001b[0mfull-stack training offering supporting TPU v4 and v5e, designed for scalability, reliability, and ease of use. \n",
       "\u001b[1;33m • \u001b[0m\u001b[1mOpen Source Contributions:\u001b[0m Several key components of the Multislice Training stack have been open-sourced,      \n",
       "\u001b[1;33m   \u001b[0mincluding the Accelerated Processing Kit (XPK), MaxText (a JAX LLM implementation), and Accurate Quantized      \n",
       "\u001b[1;33m   \u001b[0mTraining (AQT) library.                                                                                         \n",
       "\u001b[1;33m • \u001b[0m\u001b[1mHigh Performance and Scaling Efficiency:\u001b[0m Achieved as high as 66.86% MFU with BF16 training on a single TPU v5e  \n",
       "\u001b[1;33m   \u001b[0mpod with strong scaling outcomes when expanding to 160 pods. They also achieved an impressive 5.32 exa-OP/s with\n",
       "\u001b[1;33m   \u001b[0mINT8 quantized training using the full 199-pod cluster.                                                         \n"
      ]
     },
     "execution_count": 15,
     "metadata": {},
     "output_type": "execute_result"
    }
   ],
   "source": [
    "prompt_parts = [\n",
    "  pdf_to_dict_str('/Users/branchco/Downloads/drive-download-20240518T123726Z-001/stage_1_prototype_Google Cloud TPU blog.pdf'),\n",
    "  \"What are key achievement for Google Cloud from the following blog. Mention in bullet.\",\n",
    "]\n",
    "response = model.generate_content(prompt_parts)\n",
    "rich_Markdown(response.text)"
   ]
  },
  {
   "cell_type": "code",
   "execution_count": 16,
   "id": "6c7cab7c",
   "metadata": {},
   "outputs": [
    {
     "name": "stdout",
     "output_type": "stream",
     "text": [
      "CPU times: user 8.73 ms, sys: 5.26 ms, total: 14 ms\n",
      "Wall time: 10.6 s\n"
     ]
    },
    {
     "data": {
      "text/html": [
       "<pre style=\"white-space:pre;overflow-x:auto;line-height:normal;font-family:Menlo,'DejaVu Sans Mono',consolas,'Courier New',monospace\">Here are the key achievements Google Cloud highlights in the blog post, presented in bullet points:                \n",
       "\n",
       "<span style=\"color: #808000; text-decoration-color: #808000; font-weight: bold\"> • </span><span style=\"font-weight: bold\">World's Largest Publicly Disclosed Distributed LLM Training Job:</span> Google Cloud successfully ran an LLM training  \n",
       "<span style=\"color: #808000; text-decoration-color: #808000; font-weight: bold\">   </span>job on a cluster of over 50,000 TPU v5e chips, achieving 10 exa-FLOPs (16-bit) or 20 exa-OPs (8-bit) of peak    \n",
       "<span style=\"color: #808000; text-decoration-color: #808000; font-weight: bold\">   </span>performance.                                                                                                    \n",
       "<span style=\"color: #808000; text-decoration-color: #808000; font-weight: bold\"> • </span><span style=\"font-weight: bold\">General Availability of Cloud TPU Multislice Training:</span> This full-stack training offering supports TPU v4 and    \n",
       "<span style=\"color: #808000; text-decoration-color: #808000; font-weight: bold\">   </span>v5e, built for scalability, reliability, and ease of use for end-to-end optimization of ML training.            \n",
       "<span style=\"color: #808000; text-decoration-color: #808000; font-weight: bold\"> • </span><span style=\"font-weight: bold\">Robust Orchestration and Scalability:</span> Cloud TPU Multislice Training enables scaling large model training across \n",
       "<span style=\"color: #808000; text-decoration-color: #808000; font-weight: bold\">   </span>tens of thousands of TPU chips in a reliable and fault-tolerant manner.                                         \n",
       "<span style=\"color: #808000; text-decoration-color: #808000; font-weight: bold\"> • </span><span style=\"font-weight: bold\">Performant Compilation:</span> Maximizes performance and efficiency using the XLA compiler for automatic compute and   \n",
       "<span style=\"color: #808000; text-decoration-color: #808000; font-weight: bold\">   </span>communication management.                                                                                       \n",
       "<span style=\"color: #808000; text-decoration-color: #808000; font-weight: bold\"> • </span><span style=\"font-weight: bold\">Flexible Stack for End-to-End Training:</span> Provides support for popular ML frameworks like JAX and PyTorch,        \n",
       "<span style=\"color: #808000; text-decoration-color: #808000; font-weight: bold\">   </span>easy-to-use reference implementations and libraries, and support for a wide range of model architectures.       \n",
       "<span style=\"color: #808000; text-decoration-color: #808000; font-weight: bold\"> • </span><span style=\"font-weight: bold\">Open-Sourcing Key Components:</span> Google Cloud has open-sourced several key components of the Multislice Training   \n",
       "<span style=\"color: #808000; text-decoration-color: #808000; font-weight: bold\">   </span>stack, including XPK, MaxText, AQT, and XLA, to contribute to the broader AI/ML community.                      \n",
       "<span style=\"color: #808000; text-decoration-color: #808000; font-weight: bold\"> • </span><span style=\"font-weight: bold\">Achieved Excellent Scaling Across 50,944 TPU v5e Chips:</span> Google Cloud demonstrated strong scaling outcomes with  \n",
       "<span style=\"color: #808000; text-decoration-color: #808000; font-weight: bold\">   </span>Multislice Training, reaching up to 66.86% MFU with BF16 training on a single TPU v5e pod.                      \n",
       "<span style=\"color: #808000; text-decoration-color: #808000; font-weight: bold\"> • </span><span style=\"font-weight: bold\">Impressive Observed Performance with INT8 Quantized Training:</span> The team achieved an impressive observed 5.32     \n",
       "<span style=\"color: #808000; text-decoration-color: #808000; font-weight: bold\">   </span>exa-OP/s with INT8 quantized training on the entire 199-pod cluster.                                            \n",
       "<span style=\"color: #808000; text-decoration-color: #808000; font-weight: bold\"> • </span><span style=\"font-weight: bold\">Continuous Software Stack Improvement:</span> Google Cloud is committed to further improving its software stack,       \n",
       "<span style=\"color: #808000; text-decoration-color: #808000; font-weight: bold\">   </span>including exploring scalable solutions like hierarchical DCN collectives and optimizing compiler scheduling in  \n",
       "<span style=\"color: #808000; text-decoration-color: #808000; font-weight: bold\">   </span>multi-pod regimes.                                                                                              \n",
       "</pre>\n"
      ],
      "text/plain": [
       "Here are the key achievements Google Cloud highlights in the blog post, presented in bullet points:                \n",
       "\n",
       "\u001b[1;33m • \u001b[0m\u001b[1mWorld's Largest Publicly Disclosed Distributed LLM Training Job:\u001b[0m Google Cloud successfully ran an LLM training  \n",
       "\u001b[1;33m   \u001b[0mjob on a cluster of over 50,000 TPU v5e chips, achieving 10 exa-FLOPs (16-bit) or 20 exa-OPs (8-bit) of peak    \n",
       "\u001b[1;33m   \u001b[0mperformance.                                                                                                    \n",
       "\u001b[1;33m • \u001b[0m\u001b[1mGeneral Availability of Cloud TPU Multislice Training:\u001b[0m This full-stack training offering supports TPU v4 and    \n",
       "\u001b[1;33m   \u001b[0mv5e, built for scalability, reliability, and ease of use for end-to-end optimization of ML training.            \n",
       "\u001b[1;33m • \u001b[0m\u001b[1mRobust Orchestration and Scalability:\u001b[0m Cloud TPU Multislice Training enables scaling large model training across \n",
       "\u001b[1;33m   \u001b[0mtens of thousands of TPU chips in a reliable and fault-tolerant manner.                                         \n",
       "\u001b[1;33m • \u001b[0m\u001b[1mPerformant Compilation:\u001b[0m Maximizes performance and efficiency using the XLA compiler for automatic compute and   \n",
       "\u001b[1;33m   \u001b[0mcommunication management.                                                                                       \n",
       "\u001b[1;33m • \u001b[0m\u001b[1mFlexible Stack for End-to-End Training:\u001b[0m Provides support for popular ML frameworks like JAX and PyTorch,        \n",
       "\u001b[1;33m   \u001b[0measy-to-use reference implementations and libraries, and support for a wide range of model architectures.       \n",
       "\u001b[1;33m • \u001b[0m\u001b[1mOpen-Sourcing Key Components:\u001b[0m Google Cloud has open-sourced several key components of the Multislice Training   \n",
       "\u001b[1;33m   \u001b[0mstack, including XPK, MaxText, AQT, and XLA, to contribute to the broader AI/ML community.                      \n",
       "\u001b[1;33m • \u001b[0m\u001b[1mAchieved Excellent Scaling Across 50,944 TPU v5e Chips:\u001b[0m Google Cloud demonstrated strong scaling outcomes with  \n",
       "\u001b[1;33m   \u001b[0mMultislice Training, reaching up to 66.86% MFU with BF16 training on a single TPU v5e pod.                      \n",
       "\u001b[1;33m • \u001b[0m\u001b[1mImpressive Observed Performance with INT8 Quantized Training:\u001b[0m The team achieved an impressive observed 5.32     \n",
       "\u001b[1;33m   \u001b[0mexa-OP/s with INT8 quantized training on the entire 199-pod cluster.                                            \n",
       "\u001b[1;33m • \u001b[0m\u001b[1mContinuous Software Stack Improvement:\u001b[0m Google Cloud is committed to further improving its software stack,       \n",
       "\u001b[1;33m   \u001b[0mincluding exploring scalable solutions like hierarchical DCN collectives and optimizing compiler scheduling in  \n",
       "\u001b[1;33m   \u001b[0mmulti-pod regimes.                                                                                              \n"
      ]
     },
     "execution_count": 16,
     "metadata": {},
     "output_type": "execute_result"
    }
   ],
   "source": [
    "%%time\n",
    "\n",
    "response = model_flash.generate_content(prompt_parts)\n",
    "rich_Markdown(response.text)"
   ]
  },
  {
   "cell_type": "code",
   "execution_count": 18,
   "id": "70f1f97e",
   "metadata": {},
   "outputs": [
    {
     "name": "stdout",
     "output_type": "stream",
     "text": [
      "CPU times: user 613 ms, sys: 10.5 ms, total: 624 ms\n",
      "Wall time: 12.8 s\n"
     ]
    },
    {
     "data": {
      "text/html": [
       "<pre style=\"white-space:pre;overflow-x:auto;line-height:normal;font-family:Menlo,'DejaVu Sans Mono',consolas,'Courier New',monospace\">While the provided financial statements offer a glimpse into Alphabet's overall performance, they don't delve into \n",
       "specific details about Google Cloud's comparative standing within the cloud market or management's qualitative     \n",
       "assessment of its successes or challenges.                                                                         \n",
       "\n",
       "Here's what we can glean from the document:                                                                        \n",
       "\n",
       "<span style=\"color: #808000; text-decoration-color: #808000; font-weight: bold\"> • </span><span style=\"font-weight: bold\">Google Cloud Revenue Growth:</span> Google Cloud revenues show a positive trend.  Revenues grew from $6.276 billion in \n",
       "<span style=\"color: #808000; text-decoration-color: #808000; font-weight: bold\">   </span>the three months ended June 30, 2022, to $8.031 billion in the three months ended June 30, 2023. For the six    \n",
       "<span style=\"color: #808000; text-decoration-color: #808000; font-weight: bold\">   </span>months ended June 30, revenues grew from $12.097 billion to $15.485 billion. This indicates a positive          \n",
       "<span style=\"color: #808000; text-decoration-color: #808000; font-weight: bold\">   </span>trajectory.                                                                                                     \n",
       "<span style=\"color: #808000; text-decoration-color: #808000; font-weight: bold\"> • </span><span style=\"font-weight: bold\">Revenue Backlog:</span> The significant revenue backlog of $60.6 billion as of June 30, 2023, is primarily attributed  \n",
       "<span style=\"color: #808000; text-decoration-color: #808000; font-weight: bold\">   </span>to Google Cloud. This suggests a strong pipeline of future business and expected continued revenue growth.      \n",
       "<span style=\"color: #808000; text-decoration-color: #808000; font-weight: bold\"> • </span><span style=\"font-weight: bold\">Deferred Revenue:</span> Google Cloud is also a significant contributor to deferred revenue. The fact that             \n",
       "<span style=\"color: #808000; text-decoration-color: #808000; font-weight: bold\">   </span>approximately half of the revenue backlog is expected to be recognized over the next 24 months indicates a      \n",
       "<span style=\"color: #808000; text-decoration-color: #808000; font-weight: bold\">   </span>healthy short-term revenue stream.                                                                              \n",
       "\n",
       "<span style=\"font-weight: bold\">However, to get a comprehensive understanding of Google Cloud's performance, competitive landscape, leadership </span>    \n",
       "<span style=\"font-weight: bold\">views, and strategic decisions, you'd need to consult:</span>                                                             \n",
       "\n",
       "<span style=\"color: #808000; text-decoration-color: #808000; font-weight: bold\"> • </span><span style=\"font-weight: bold\">Management's Discussion and Analysis of Financial Condition and Results of Operations (MD&amp;A):</span> This section of   \n",
       "<span style=\"color: #808000; text-decoration-color: #808000; font-weight: bold\">   </span>the 10-Q report would provide deeper insights into the factors driving Google Cloud's performance, including    \n",
       "<span style=\"color: #808000; text-decoration-color: #808000; font-weight: bold\">   </span>market dynamics, competitive pressures, and management's assessment of its strengths and weaknesses.            \n",
       "<span style=\"color: #808000; text-decoration-color: #808000; font-weight: bold\"> • </span><span style=\"font-weight: bold\">Alphabet's Earnings Calls and Presentations:</span> These sources often include detailed commentary from leadership    \n",
       "<span style=\"color: #808000; text-decoration-color: #808000; font-weight: bold\">   </span>about specific business segments, including Google Cloud.                                                       \n",
       "<span style=\"color: #808000; text-decoration-color: #808000; font-weight: bold\"> • </span><span style=\"font-weight: bold\">Industry Analyst Reports:</span> These reports provide valuable external perspectives on Google Cloud's market         \n",
       "<span style=\"color: #808000; text-decoration-color: #808000; font-weight: bold\">   </span>position, competitive landscape, and overall performance compared to rivals like AWS and Microsoft Azure.       \n",
       "\n",
       "In essence, while the provided financial data hints at positive growth for Google Cloud, a more thorough analysis  \n",
       "requiring additional sources is necessary to answer your questions comprehensively.                                \n",
       "</pre>\n"
      ],
      "text/plain": [
       "While the provided financial statements offer a glimpse into Alphabet's overall performance, they don't delve into \n",
       "specific details about Google Cloud's comparative standing within the cloud market or management's qualitative     \n",
       "assessment of its successes or challenges.                                                                         \n",
       "\n",
       "Here's what we can glean from the document:                                                                        \n",
       "\n",
       "\u001b[1;33m • \u001b[0m\u001b[1mGoogle Cloud Revenue Growth:\u001b[0m Google Cloud revenues show a positive trend.  Revenues grew from $6.276 billion in \n",
       "\u001b[1;33m   \u001b[0mthe three months ended June 30, 2022, to $8.031 billion in the three months ended June 30, 2023. For the six    \n",
       "\u001b[1;33m   \u001b[0mmonths ended June 30, revenues grew from $12.097 billion to $15.485 billion. This indicates a positive          \n",
       "\u001b[1;33m   \u001b[0mtrajectory.                                                                                                     \n",
       "\u001b[1;33m • \u001b[0m\u001b[1mRevenue Backlog:\u001b[0m The significant revenue backlog of $60.6 billion as of June 30, 2023, is primarily attributed  \n",
       "\u001b[1;33m   \u001b[0mto Google Cloud. This suggests a strong pipeline of future business and expected continued revenue growth.      \n",
       "\u001b[1;33m • \u001b[0m\u001b[1mDeferred Revenue:\u001b[0m Google Cloud is also a significant contributor to deferred revenue. The fact that             \n",
       "\u001b[1;33m   \u001b[0mapproximately half of the revenue backlog is expected to be recognized over the next 24 months indicates a      \n",
       "\u001b[1;33m   \u001b[0mhealthy short-term revenue stream.                                                                              \n",
       "\n",
       "\u001b[1mHowever, to get a comprehensive understanding of Google Cloud's performance, competitive landscape, leadership \u001b[0m    \n",
       "\u001b[1mviews, and strategic decisions, you'd need to consult:\u001b[0m                                                             \n",
       "\n",
       "\u001b[1;33m • \u001b[0m\u001b[1mManagement's Discussion and Analysis of Financial Condition and Results of Operations (MD&A):\u001b[0m This section of   \n",
       "\u001b[1;33m   \u001b[0mthe 10-Q report would provide deeper insights into the factors driving Google Cloud's performance, including    \n",
       "\u001b[1;33m   \u001b[0mmarket dynamics, competitive pressures, and management's assessment of its strengths and weaknesses.            \n",
       "\u001b[1;33m • \u001b[0m\u001b[1mAlphabet's Earnings Calls and Presentations:\u001b[0m These sources often include detailed commentary from leadership    \n",
       "\u001b[1;33m   \u001b[0mabout specific business segments, including Google Cloud.                                                       \n",
       "\u001b[1;33m • \u001b[0m\u001b[1mIndustry Analyst Reports:\u001b[0m These reports provide valuable external perspectives on Google Cloud's market         \n",
       "\u001b[1;33m   \u001b[0mposition, competitive landscape, and overall performance compared to rivals like AWS and Microsoft Azure.       \n",
       "\n",
       "In essence, while the provided financial data hints at positive growth for Google Cloud, a more thorough analysis  \n",
       "requiring additional sources is necessary to answer your questions comprehensively.                                \n"
      ]
     },
     "execution_count": 18,
     "metadata": {},
     "output_type": "execute_result"
    }
   ],
   "source": [
    "%%time\n",
    "prompt_parts = [\n",
    "  pdf_to_dict_str('/Users/branchco/Downloads/drive-download-20240518T123726Z-001/goog-10-q-q2-2023-4-1-15.pdf'),\n",
    "  \"\"\"Answer based on the document provided:\n",
    "- How has Google Cloud performed in last quarters?\n",
    "- What factors have influenced its numebrs and is it positive or negative?\n",
    "- What is the leadership view on Google Cloud business?\n",
    "- What are some changes and decisions they have made along the way to achieve their goals?\n",
    "- How are they doing with respect to other cloud companies?\n",
    "  \"\"\",\n",
    "]\n",
    "response = model.generate_content(prompt_parts)\n",
    "rich_Markdown(response.text)\n",
    "     "
   ]
  },
  {
   "cell_type": "code",
   "execution_count": 19,
   "id": "83e2a1c9",
   "metadata": {},
   "outputs": [
    {
     "name": "stdout",
     "output_type": "stream",
     "text": [
      "models/chat-bison-001\n",
      "models/text-bison-001\n",
      "models/embedding-gecko-001\n",
      "models/gemini-1.0-pro\n",
      "models/gemini-1.0-pro-001\n",
      "models/gemini-1.0-pro-latest\n",
      "models/gemini-1.0-pro-vision-latest\n",
      "models/gemini-1.5-flash-latest\n",
      "models/gemini-1.5-pro-latest\n",
      "models/gemini-pro\n",
      "models/gemini-pro-vision\n",
      "models/embedding-001\n",
      "models/text-embedding-004\n",
      "models/aqa\n"
     ]
    }
   ],
   "source": [
    "for models in genai.list_models():\n",
    "  print(models.name)"
   ]
  },
  {
   "cell_type": "code",
   "execution_count": 56,
   "id": "4049a339",
   "metadata": {},
   "outputs": [
    {
     "name": "stdout",
     "output_type": "stream",
     "text": [
      "CPU times: user 3 µs, sys: 1 µs, total: 4 µs\n",
      "Wall time: 24.1 µs\n"
     ]
    }
   ],
   "source": [
    "%%time\n",
    "file_path = '/Users/branchco/Downloads/drive-download-20240518T123726Z-001'\n",
    "earning_calls = genai.upload_file(path=file_path, \"/stage_1_prototype_Alphabet 2023 Q4 Earnings Call.mp3\"),\n",
    "                            display_name=\"earning_calls\")\n",
    "     "
   ]
  },
  {
   "cell_type": "code",
   "execution_count": 22,
   "id": "c587a490",
   "metadata": {},
   "outputs": [
    {
     "name": "stdout",
     "output_type": "stream",
     "text": [
      "CPU times: user 52.2 ms, sys: 45.1 ms, total: 97.3 ms\n",
      "Wall time: 1min 40s\n"
     ]
    },
    {
     "data": {
      "text/html": [
       "<pre style=\"white-space:pre;overflow-x:auto;line-height:normal;font-family:Menlo,'DejaVu Sans Mono',consolas,'Courier New',monospace\">\n",
       "                                    <span style=\"font-weight: bold; text-decoration: underline\">Major comments by Sundar and Ruth about AI:</span>                                    \n",
       "\n",
       "<span style=\"color: #808000; text-decoration-color: #808000; font-weight: bold\"> • </span><span style=\"font-weight: bold\">Sundar:</span>                                                                                                         \n",
       "<span style=\"color: #808000; text-decoration-color: #808000; font-weight: bold\">    • </span>Alphabet has long been a leader in using AI to improve its products, from Search to Ads, to consumer and     \n",
       "<span style=\"color: #808000; text-decoration-color: #808000; font-weight: bold\">      </span>enterprise offerings.                                                                                        \n",
       "<span style=\"color: #808000; text-decoration-color: #808000; font-weight: bold\">    • </span>Generative AI is a key focus, with the launch of Gemini, an industry-leading series of models that will fuel \n",
       "<span style=\"color: #808000; text-decoration-color: #808000; font-weight: bold\">      </span>next-generation advancements.                                                                                \n",
       "<span style=\"color: #808000; text-decoration-color: #808000; font-weight: bold\">    • </span>Gemini is the first realization of the vision of combining Google and DeepMind research teams.               \n",
       "<span style=\"color: #808000; text-decoration-color: #808000; font-weight: bold\">    • </span>Search Generative Experience (SGE) is powered by Gemini and is making search faster and more versatile,      \n",
       "<span style=\"color: #808000; text-decoration-color: #808000; font-weight: bold\">      </span>enabling answering new types of questions and serving a wider range of information needs.                    \n",
       "<span style=\"color: #808000; text-decoration-color: #808000; font-weight: bold\">    • </span>Google Cloud crossed $9 billion in revenue, driven by its leading position in generative AI and product      \n",
       "<span style=\"color: #808000; text-decoration-color: #808000; font-weight: bold\">      </span>innovation.                                                                                                  \n",
       "<span style=\"color: #808000; text-decoration-color: #808000; font-weight: bold\">    • </span>Duet AI, packaged AI agents for Google Workspace and Google Cloud Platform, is seeing strong adoption,       \n",
       "<span style=\"color: #808000; text-decoration-color: #808000; font-weight: bold\">      </span>boosting productivity and improving operations.                                                              \n",
       "<span style=\"color: #808000; text-decoration-color: #808000; font-weight: bold\">    • </span>Alphabet is investing responsibly in data centers and compute to support the growth of AI powered services.  \n",
       "<span style=\"color: #808000; text-decoration-color: #808000; font-weight: bold\">    • </span>Pixel 8, its AI-first phone, was awarded phone of the year, now uses Gemini Nano.                            \n",
       "<span style=\"color: #808000; text-decoration-color: #808000; font-weight: bold\">    • </span>Other Bets companies are leveraging AI for autonomous vehicles (Waymo) and drug discovery (Isomorphic Labs). \n",
       "<span style=\"color: #808000; text-decoration-color: #808000; font-weight: bold\"> • </span><span style=\"font-weight: bold\">Ruth:</span>                                                                                                           \n",
       "<span style=\"color: #808000; text-decoration-color: #808000; font-weight: bold\">    • </span>Alphabet's strong Q4 performance was driven in part by GCP momentum with an increasing contribution from AI. \n",
       "<span style=\"color: #808000; text-decoration-color: #808000; font-weight: bold\">    • </span>The strong demand for Alphabet's vertically integrated AI portfolio is creating new opportunities for Google \n",
       "<span style=\"color: #808000; text-decoration-color: #808000; font-weight: bold\">      </span>Cloud across every product area.                                                                             \n",
       "<span style=\"color: #808000; text-decoration-color: #808000; font-weight: bold\">    • </span>Improvement in Google Cloud's profitability reflects a sustained focus on maintaining healthy profitability  \n",
       "<span style=\"color: #808000; text-decoration-color: #808000; font-weight: bold\">      </span>while investing to support long-term growth.                                                                 \n",
       "<span style=\"color: #808000; text-decoration-color: #808000; font-weight: bold\">    • </span>CapEx increase in Q4 reflects the company's outlook for the extraordinary applications of AI to deliver for  \n",
       "<span style=\"color: #808000; text-decoration-color: #808000; font-weight: bold\">      </span>users, advertisers, developers, cloud enterprise customers, and governments globally, and the long-term      \n",
       "<span style=\"color: #808000; text-decoration-color: #808000; font-weight: bold\">      </span>growth opportunities that it offers.                                                                         \n",
       "<span style=\"color: #808000; text-decoration-color: #808000; font-weight: bold\">    • </span>In 2024, Alphabet expects investment in CapEx to be notably larger than in 2023.                             \n",
       "\n",
       "\n",
       "                             <span style=\"font-weight: bold; text-decoration: underline\">Key AI-related questions by analysts and their responses:</span>                             \n",
       "\n",
       "<span style=\"color: #808000; text-decoration-color: #808000; font-weight: bold\"> • </span><span style=\"font-weight: bold\">Brian Nowak (Morgan Stanley):</span> What hurdles and gating factors should we consider regarding the pace at which    \n",
       "<span style=\"color: #808000; text-decoration-color: #808000; font-weight: bold\">   </span>generative AI advertising tools will be rolled out broadly? How do you think about long-term salesforce         \n",
       "<span style=\"color: #808000; text-decoration-color: #808000; font-weight: bold\">   </span>intensity of the advertising business as you roll out more AI-based tools?                                      \n",
       "<span style=\"color: #808000; text-decoration-color: #808000; font-weight: bold\">    • </span><span style=\"font-weight: bold\">Philipp Schindler:</span> AI has been at the core of Google advertising products for a very long time. Recent       \n",
       "<span style=\"color: #808000; text-decoration-color: #808000; font-weight: bold\">      </span>advances are allowing the company to drive more value for advertisers. AI essentials play a huge role in     \n",
       "<span style=\"color: #808000; text-decoration-color: #808000; font-weight: bold\">      </span>getting everyone ready to take full advantage of these new tools. Google is on track with the progress of    \n",
       "<span style=\"color: #808000; text-decoration-color: #808000; font-weight: bold\">      </span>PMax and other AI solutions. Regarding salesforce intensity, Google has done a few reallocations and         \n",
       "<span style=\"color: #808000; text-decoration-color: #808000; font-weight: bold\">      </span>portfolio adjustments to focus more resources on GCS. It's not about AI taking away roles but rather creating\n",
       "<span style=\"color: #808000; text-decoration-color: #808000; font-weight: bold\">      </span>opportunities with AI powered solutions. Google sees this as a way to deliver incredible ROI at scale.       \n",
       "<span style=\"color: #808000; text-decoration-color: #808000; font-weight: bold\"> • </span><span style=\"font-weight: bold\">Doug Anmuth (J.P. Morgan):</span>  Ruth, can you assess your progress in durably re-engineering the cost structure? Are\n",
       "<span style=\"color: #808000; text-decoration-color: #808000; font-weight: bold\">   </span>there any guideposts we should be thinking about going forward? Philipp, can you talk more about NFL Sunday     \n",
       "<span style=\"color: #808000; text-decoration-color: #808000; font-weight: bold\">   </span>Ticket, your key learnings in year one, and how you are thinking about the return on investment?                \n",
       "<span style=\"color: #808000; text-decoration-color: #808000; font-weight: bold\">    • </span><span style=\"font-weight: bold\">Ruth Porat:</span> Alphabet is committed to durably re-engineering its cost base while investing in growth          \n",
       "<span style=\"color: #808000; text-decoration-color: #808000; font-weight: bold\">      </span>priorities. This is driven by product and process prioritization and organizational efficiency and structure,\n",
       "<span style=\"color: #808000; text-decoration-color: #808000; font-weight: bold\">      </span>resulting in a slower pace of hiring. Severance related expense is estimated to be roughly $700 million in   \n",
       "<span style=\"color: #808000; text-decoration-color: #808000; font-weight: bold\">      </span>the first quarter.                                                                                           \n",
       "<span style=\"color: #808000; text-decoration-color: #808000; font-weight: bold\">    • </span><span style=\"font-weight: bold\">Philipp Schindler:</span> NFL Sunday Ticket supports Youtube's long-term strategy to solidify its position as a     \n",
       "<span style=\"color: #808000; text-decoration-color: #808000; font-weight: bold\">      </span>must-have app. Feedback on the user experience has been positive, particularly regarding navigation,         \n",
       "<span style=\"color: #808000; text-decoration-color: #808000; font-weight: bold\">      </span>multiview, chat, and low latency. Youtube is pleased with NFL Sunday Ticket signups in its first season, both\n",
       "<span style=\"color: #808000; text-decoration-color: #808000; font-weight: bold\">      </span>as part of Youtube TV and as a standalone offering. Youtube sees solid demand for their offering across the  \n",
       "<span style=\"color: #808000; text-decoration-color: #808000; font-weight: bold\">      </span>ad market.                                                                                                   \n",
       "<span style=\"color: #808000; text-decoration-color: #808000; font-weight: bold\"> • </span><span style=\"font-weight: bold\">Eric Sheridan (Goldman Sachs):</span> Sundar, how do you envision traditional search and Google Assistant evolving in a\n",
       "<span style=\"color: #808000; text-decoration-color: #808000; font-weight: bold\">   </span>world of SGE and Bard? What might this mean for commercial and non-commercial search use cases in the years     \n",
       "<span style=\"color: #808000; text-decoration-color: #808000; font-weight: bold\">   </span>ahead? Ruth, can you clarify the messaging around one-timers in the quarter? It seems they were not allocated to\n",
       "<span style=\"color: #808000; text-decoration-color: #808000; font-weight: bold\">   </span>the segments but rather are elements of Other Bets and alphabet level activities.                               \n",
       "<span style=\"color: #808000; text-decoration-color: #808000; font-weight: bold\">    • </span><span style=\"font-weight: bold\">Sundar Pichai:</span> This is an exciting time for Search. Early feedback on SGE is positive and the set of queries \n",
       "<span style=\"color: #808000; text-decoration-color: #808000; font-weight: bold\">      </span>where it works well is expanding. Assistant will be complementary to Search and generative AI will be used   \n",
       "<span style=\"color: #808000; text-decoration-color: #808000; font-weight: bold\">      </span>there as well, particularly with Bard. Bard allows Google to act more like an agent, potentially going beyond\n",
       "<span style=\"color: #808000; text-decoration-color: #808000; font-weight: bold\">      </span>just providing answers and following through for users.                                                      \n",
       "<span style=\"color: #808000; text-decoration-color: #808000; font-weight: bold\">    • </span><span style=\"font-weight: bold\">Ruth Porat:</span> The $1.2 billion in exit charges related to real estate is categorized as Alphabet level         \n",
       "<span style=\"color: #808000; text-decoration-color: #808000; font-weight: bold\">      </span>activity. The other one-time charges are allocated across expense lines in Other Cost of Revenues and OpEx,  \n",
       "<span style=\"color: #808000; text-decoration-color: #808000; font-weight: bold\">      </span>based on headcount.                                                                                          \n",
       "<span style=\"color: #808000; text-decoration-color: #808000; font-weight: bold\"> • </span><span style=\"font-weight: bold\">Michael Nathanson (MoffettNathanson):</span> Can you talk about the Connected TV opportunity outside the US and what   \n",
       "<span style=\"color: #808000; text-decoration-color: #808000; font-weight: bold\">   </span>the company is doing to drive adoption of Youtube or connected TVs? You've been consistent about the strength of\n",
       "<span style=\"color: #808000; text-decoration-color: #808000; font-weight: bold\">   </span>Shorts over the past year, could you talk a bit about the monetization challenges? Do you still see the         \n",
       "<span style=\"color: #808000; text-decoration-color: #808000; font-weight: bold\">   </span>headwinds that you saw at the beginning?                                                                        \n",
       "<span style=\"color: #808000; text-decoration-color: #808000; font-weight: bold\">    • </span><span style=\"font-weight: bold\">Philipp Schindler:</span> Youtube continues to perform well in the Connected TV space. Youtube is the leader in US  \n",
       "<span style=\"color: #808000; text-decoration-color: #808000; font-weight: bold\">      </span>streaming watch time, and this trend is not just driven by one audience group. The company is also looking   \n",
       "<span style=\"color: #808000; text-decoration-color: #808000; font-weight: bold\">      </span>closely at the international Connected TV space.  Shorts was built in response to demand from creators and   \n",
       "<span style=\"color: #808000; text-decoration-color: #808000; font-weight: bold\">      </span>viewers for short-form video, and Google is happy with the growth seen. Shorts monetization continues to     \n",
       "<span style=\"color: #808000; text-decoration-color: #808000; font-weight: bold\">      </span>progress nicely. Since revenue sharing was introduced, total creator earnings from Shorts increased every    \n",
       "<span style=\"color: #808000; text-decoration-color: #808000; font-weight: bold\">      </span>month.                                                                                                       \n",
       "<span style=\"color: #808000; text-decoration-color: #808000; font-weight: bold\"> • </span><span style=\"font-weight: bold\">Stephen Ju (UBS):</span> How are you feeling about enabling SMBs who otherwise could not advertise with you before?    \n",
       "<span style=\"color: #808000; text-decoration-color: #808000; font-weight: bold\">   </span>What kind of TAM expansion tailwind does that create for your revenue growth over the long term?                \n",
       "<span style=\"color: #808000; text-decoration-color: #808000; font-weight: bold\">    • </span><span style=\"font-weight: bold\">Philipp Schindler:</span> SMBs are a huge focus for Google. They are a big part of the company's GCS channel.       \n",
       "<span style=\"color: #808000; text-decoration-color: #808000; font-weight: bold\">      </span>Google's focus has been on investing in solutions that help level the playing field, allowing SMBs to compete\n",
       "<span style=\"color: #808000; text-decoration-color: #808000; font-weight: bold\">      </span>with larger brands.  The AI powered solutions Google is developing are making it easier for SMBs to          \n",
       "<span style=\"color: #808000; text-decoration-color: #808000; font-weight: bold\">      </span>advertise, making the entire process easier and driving value more quickly. Google is very satisfied with    \n",
       "<span style=\"color: #808000; text-decoration-color: #808000; font-weight: bold\">      </span>what they are seeing and will continue to invest.                                                            \n",
       "<span style=\"color: #808000; text-decoration-color: #808000; font-weight: bold\"> • </span><span style=\"font-weight: bold\">Justin Post (BofA):</span> Are there concerns on the use of competitive AI tools as an alternative to Search? Have you \n",
       "<span style=\"color: #808000; text-decoration-color: #808000; font-weight: bold\">   </span>seen any changes in query volumes, positive or negative, since you've seen the year evolve and more Search      \n",
       "<span style=\"color: #808000; text-decoration-color: #808000; font-weight: bold\">   </span>Generative experiences? What can really make Google stand out versus other AI tools? Ruth, CapEx was $11        \n",
       "<span style=\"color: #808000; text-decoration-color: #808000; font-weight: bold\">   </span>billion, a step up obviously, any one-time items in there or is that how we should think about the new run rate \n",
       "<span style=\"color: #808000; text-decoration-color: #808000; font-weight: bold\">   </span>into 2024?                                                                                                      \n",
       "<span style=\"color: #808000; text-decoration-color: #808000; font-weight: bold\">    • </span><span style=\"font-weight: bold\">Sundar Pichai:</span>  Alphabet is thinking about the effects on Search more broadly, noting that people have a lot \n",
       "<span style=\"color: #808000; text-decoration-color: #808000; font-weight: bold\">      </span>of information choices, and user expectations are constantly evolving. Google has been working on search for \n",
       "<span style=\"color: #808000; text-decoration-color: #808000; font-weight: bold\">      </span>a long time and a strong track record of innovation is what matters. Generative AI is a new tool in Google's \n",
       "<span style=\"color: #808000; text-decoration-color: #808000; font-weight: bold\">      </span>arsenal and there is a lot that goes into Search: the breadth, depth, diversity across verticals, etc. Google\n",
       "<span style=\"color: #808000; text-decoration-color: #808000; font-weight: bold\">      </span>feels very good about the progress and their roadmap for 2024 is strong.                                     \n",
       "<span style=\"color: #808000; text-decoration-color: #808000; font-weight: bold\">    • </span><span style=\"font-weight: bold\">Ruth Porat:</span> The CapEx of $11 billion in the fourth quarter is primarily due to investment in Google's        \n",
       "<span style=\"color: #808000; text-decoration-color: #808000; font-weight: bold\">      </span>technical infrastructure. There are no one-time items. This reflects Alphabet's outlook for the extraordinary\n",
       "<span style=\"color: #808000; text-decoration-color: #808000; font-weight: bold\">      </span>applications of AI and the long-term opportunity it offers. Alphabet expects 2024 CapEx to be notably larger \n",
       "<span style=\"color: #808000; text-decoration-color: #808000; font-weight: bold\">      </span>than in 2023.                                                                                                \n",
       "<span style=\"color: #808000; text-decoration-color: #808000; font-weight: bold\"> • </span><span style=\"font-weight: bold\">Ross Sandler (Barclays):</span> Going back to the DOJ trial, there was a document that was disclosed from Google that  \n",
       "<span style=\"color: #808000; text-decoration-color: #808000; font-weight: bold\">   </span>said something along the lines of \"leaning on ad quality team to deliver 20% RPM growth in Search is a fragile  \n",
       "<span style=\"color: #808000; text-decoration-color: #808000; font-weight: bold\">   </span>strategy\". How do you feel about Google's ability to drive Search RPM going forward?                            \n",
       "<span style=\"color: #808000; text-decoration-color: #808000; font-weight: bold\">    • </span><span style=\"font-weight: bold\">Sundar Pichai:</span> Sundar has tremendous confidence in Google's quality-driven approach on Search and Ads        \n",
       "<span style=\"color: #808000; text-decoration-color: #808000; font-weight: bold\">      </span>quality, as well as improvements on search and Ads RPM. Extraordinarily focused on Ads quality to deliver the\n",
       "<span style=\"color: #808000; text-decoration-color: #808000; font-weight: bold\">      </span>actual ROI to advertisers and improve the user experience. All underpinned by rigor, technical excellence,   \n",
       "<span style=\"color: #808000; text-decoration-color: #808000; font-weight: bold\">      </span>and go-to-market excellence. The fundamentals don't change, AI gives Google opportunity both on the organic  \n",
       "<span style=\"color: #808000; text-decoration-color: #808000; font-weight: bold\">      </span>and monetization side.  Google is still in the early days of this, and believes they will be able to take a  \n",
       "<span style=\"color: #808000; text-decoration-color: #808000; font-weight: bold\">      </span>long-term view, serving information needs in a deeper way.                                                   \n",
       "<span style=\"color: #808000; text-decoration-color: #808000; font-weight: bold\"> • </span><span style=\"font-weight: bold\">Mark Mahaney (Evercore):</span> On Cloud, there's volatility, a material deceleration last quarter and a reacceleration\n",
       "<span style=\"color: #808000; text-decoration-color: #808000; font-weight: bold\">   </span>this quarter. Is that explained by where we are in the optimization cycle? Could generative AI workloads be     \n",
       "<span style=\"color: #808000; text-decoration-color: #808000; font-weight: bold\">   </span>starting to trickle in now and cause that growth curve to bend back up? Philipp, I wanted to ask on the creative\n",
       "<span style=\"color: #808000; text-decoration-color: #808000; font-weight: bold\">   </span>side, particularly on Youtube and Ads, using AI to improve the creative and really to offer SMBs who have been  \n",
       "<span style=\"color: #808000; text-decoration-color: #808000; font-weight: bold\">   </span>with Google forever performance-based video ad campaigns. Is that a new growth area? How far along are you in   \n",
       "<span style=\"color: #808000; text-decoration-color: #808000; font-weight: bold\">   </span>terms of offering this out into the market and do you think this opens up a new area of spend that wasn't there \n",
       "<span style=\"color: #808000; text-decoration-color: #808000; font-weight: bold\">   </span>before?                                                                                                         \n",
       "<span style=\"color: #808000; text-decoration-color: #808000; font-weight: bold\">    • </span><span style=\"font-weight: bold\">Sundar Pichai:</span> Excitement around AI solutions on top of Google Cloud's foundational pillars (data analytics, \n",
       "<span style=\"color: #808000; text-decoration-color: #808000; font-weight: bold\">      </span>infrastructure, security, etc.) is driving interest and early adoption. Over 70% of generative AI unicorns   \n",
       "<span style=\"color: #808000; text-decoration-color: #808000; font-weight: bold\">      </span>are using Google Cloud.  This is an area where Alphabet's strengths will continue to play out, especially    \n",
       "<span style=\"color: #808000; text-decoration-color: #808000; font-weight: bold\">      </span>given the innovation ahead from Google on the AI front. Regional variations exist, but cost optimizations in \n",
       "<span style=\"color: #808000; text-decoration-color: #808000; font-weight: bold\">      </span>many areas have mostly been worked through.                                                                  \n",
       "<span style=\"color: #808000; text-decoration-color: #808000; font-weight: bold\">    • </span><span style=\"font-weight: bold\">Philipp Schindler:</span>  Youtube's mission has been to enable millions of creators to share their voice, connect  \n",
       "<span style=\"color: #808000; text-decoration-color: #808000; font-weight: bold\">      </span>with audiences, and build thriving businesses. AI has been a critical piece of this. Generative AI can be    \n",
       "<span style=\"color: #808000; text-decoration-color: #808000; font-weight: bold\">      </span>taken to the advertising world.  AI continues to power a lot of Google's video ad solutions and measurement  \n",
       "<span style=\"color: #808000; text-decoration-color: #808000; font-weight: bold\">      </span>capabilities. This is part of video reach campaigns and multi-format ads. Generative AI can also make it     \n",
       "<span style=\"color: #808000; text-decoration-color: #808000; font-weight: bold\">      </span>easier for creators to design the perfect soundtrack. AI will unlock a new world of creativity and this will \n",
       "<span style=\"color: #808000; text-decoration-color: #808000; font-weight: bold\">      </span>impact and positively impact and simplify the flow for creators, similar to what is already emerging with    \n",
       "<span style=\"color: #808000; text-decoration-color: #808000; font-weight: bold\">      </span>products like ACA.                                                                                           \n",
       "</pre>\n"
      ],
      "text/plain": [
       "\n",
       "                                    \u001b[1;4mMajor comments by Sundar and Ruth about AI:\u001b[0m                                    \n",
       "\n",
       "\u001b[1;33m • \u001b[0m\u001b[1mSundar:\u001b[0m                                                                                                         \n",
       "\u001b[1;33m   \u001b[0m\u001b[1;33m • \u001b[0mAlphabet has long been a leader in using AI to improve its products, from Search to Ads, to consumer and     \n",
       "\u001b[1;33m   \u001b[0m\u001b[1;33m   \u001b[0menterprise offerings.                                                                                        \n",
       "\u001b[1;33m   \u001b[0m\u001b[1;33m • \u001b[0mGenerative AI is a key focus, with the launch of Gemini, an industry-leading series of models that will fuel \n",
       "\u001b[1;33m   \u001b[0m\u001b[1;33m   \u001b[0mnext-generation advancements.                                                                                \n",
       "\u001b[1;33m   \u001b[0m\u001b[1;33m • \u001b[0mGemini is the first realization of the vision of combining Google and DeepMind research teams.               \n",
       "\u001b[1;33m   \u001b[0m\u001b[1;33m • \u001b[0mSearch Generative Experience (SGE) is powered by Gemini and is making search faster and more versatile,      \n",
       "\u001b[1;33m   \u001b[0m\u001b[1;33m   \u001b[0menabling answering new types of questions and serving a wider range of information needs.                    \n",
       "\u001b[1;33m   \u001b[0m\u001b[1;33m • \u001b[0mGoogle Cloud crossed $9 billion in revenue, driven by its leading position in generative AI and product      \n",
       "\u001b[1;33m   \u001b[0m\u001b[1;33m   \u001b[0minnovation.                                                                                                  \n",
       "\u001b[1;33m   \u001b[0m\u001b[1;33m • \u001b[0mDuet AI, packaged AI agents for Google Workspace and Google Cloud Platform, is seeing strong adoption,       \n",
       "\u001b[1;33m   \u001b[0m\u001b[1;33m   \u001b[0mboosting productivity and improving operations.                                                              \n",
       "\u001b[1;33m   \u001b[0m\u001b[1;33m • \u001b[0mAlphabet is investing responsibly in data centers and compute to support the growth of AI powered services.  \n",
       "\u001b[1;33m   \u001b[0m\u001b[1;33m • \u001b[0mPixel 8, its AI-first phone, was awarded phone of the year, now uses Gemini Nano.                            \n",
       "\u001b[1;33m   \u001b[0m\u001b[1;33m • \u001b[0mOther Bets companies are leveraging AI for autonomous vehicles (Waymo) and drug discovery (Isomorphic Labs). \n",
       "\u001b[1;33m • \u001b[0m\u001b[1mRuth:\u001b[0m                                                                                                           \n",
       "\u001b[1;33m   \u001b[0m\u001b[1;33m • \u001b[0mAlphabet's strong Q4 performance was driven in part by GCP momentum with an increasing contribution from AI. \n",
       "\u001b[1;33m   \u001b[0m\u001b[1;33m • \u001b[0mThe strong demand for Alphabet's vertically integrated AI portfolio is creating new opportunities for Google \n",
       "\u001b[1;33m   \u001b[0m\u001b[1;33m   \u001b[0mCloud across every product area.                                                                             \n",
       "\u001b[1;33m   \u001b[0m\u001b[1;33m • \u001b[0mImprovement in Google Cloud's profitability reflects a sustained focus on maintaining healthy profitability  \n",
       "\u001b[1;33m   \u001b[0m\u001b[1;33m   \u001b[0mwhile investing to support long-term growth.                                                                 \n",
       "\u001b[1;33m   \u001b[0m\u001b[1;33m • \u001b[0mCapEx increase in Q4 reflects the company's outlook for the extraordinary applications of AI to deliver for  \n",
       "\u001b[1;33m   \u001b[0m\u001b[1;33m   \u001b[0musers, advertisers, developers, cloud enterprise customers, and governments globally, and the long-term      \n",
       "\u001b[1;33m   \u001b[0m\u001b[1;33m   \u001b[0mgrowth opportunities that it offers.                                                                         \n",
       "\u001b[1;33m   \u001b[0m\u001b[1;33m • \u001b[0mIn 2024, Alphabet expects investment in CapEx to be notably larger than in 2023.                             \n",
       "\n",
       "\n",
       "                             \u001b[1;4mKey AI-related questions by analysts and their responses:\u001b[0m                             \n",
       "\n",
       "\u001b[1;33m • \u001b[0m\u001b[1mBrian Nowak (Morgan Stanley):\u001b[0m What hurdles and gating factors should we consider regarding the pace at which    \n",
       "\u001b[1;33m   \u001b[0mgenerative AI advertising tools will be rolled out broadly? How do you think about long-term salesforce         \n",
       "\u001b[1;33m   \u001b[0mintensity of the advertising business as you roll out more AI-based tools?                                      \n",
       "\u001b[1;33m   \u001b[0m\u001b[1;33m • \u001b[0m\u001b[1mPhilipp Schindler:\u001b[0m AI has been at the core of Google advertising products for a very long time. Recent       \n",
       "\u001b[1;33m   \u001b[0m\u001b[1;33m   \u001b[0madvances are allowing the company to drive more value for advertisers. AI essentials play a huge role in     \n",
       "\u001b[1;33m   \u001b[0m\u001b[1;33m   \u001b[0mgetting everyone ready to take full advantage of these new tools. Google is on track with the progress of    \n",
       "\u001b[1;33m   \u001b[0m\u001b[1;33m   \u001b[0mPMax and other AI solutions. Regarding salesforce intensity, Google has done a few reallocations and         \n",
       "\u001b[1;33m   \u001b[0m\u001b[1;33m   \u001b[0mportfolio adjustments to focus more resources on GCS. It's not about AI taking away roles but rather creating\n",
       "\u001b[1;33m   \u001b[0m\u001b[1;33m   \u001b[0mopportunities with AI powered solutions. Google sees this as a way to deliver incredible ROI at scale.       \n",
       "\u001b[1;33m • \u001b[0m\u001b[1mDoug Anmuth (J.P. Morgan):\u001b[0m  Ruth, can you assess your progress in durably re-engineering the cost structure? Are\n",
       "\u001b[1;33m   \u001b[0mthere any guideposts we should be thinking about going forward? Philipp, can you talk more about NFL Sunday     \n",
       "\u001b[1;33m   \u001b[0mTicket, your key learnings in year one, and how you are thinking about the return on investment?                \n",
       "\u001b[1;33m   \u001b[0m\u001b[1;33m • \u001b[0m\u001b[1mRuth Porat:\u001b[0m Alphabet is committed to durably re-engineering its cost base while investing in growth          \n",
       "\u001b[1;33m   \u001b[0m\u001b[1;33m   \u001b[0mpriorities. This is driven by product and process prioritization and organizational efficiency and structure,\n",
       "\u001b[1;33m   \u001b[0m\u001b[1;33m   \u001b[0mresulting in a slower pace of hiring. Severance related expense is estimated to be roughly $700 million in   \n",
       "\u001b[1;33m   \u001b[0m\u001b[1;33m   \u001b[0mthe first quarter.                                                                                           \n",
       "\u001b[1;33m   \u001b[0m\u001b[1;33m • \u001b[0m\u001b[1mPhilipp Schindler:\u001b[0m NFL Sunday Ticket supports Youtube's long-term strategy to solidify its position as a     \n",
       "\u001b[1;33m   \u001b[0m\u001b[1;33m   \u001b[0mmust-have app. Feedback on the user experience has been positive, particularly regarding navigation,         \n",
       "\u001b[1;33m   \u001b[0m\u001b[1;33m   \u001b[0mmultiview, chat, and low latency. Youtube is pleased with NFL Sunday Ticket signups in its first season, both\n",
       "\u001b[1;33m   \u001b[0m\u001b[1;33m   \u001b[0mas part of Youtube TV and as a standalone offering. Youtube sees solid demand for their offering across the  \n",
       "\u001b[1;33m   \u001b[0m\u001b[1;33m   \u001b[0mad market.                                                                                                   \n",
       "\u001b[1;33m • \u001b[0m\u001b[1mEric Sheridan (Goldman Sachs):\u001b[0m Sundar, how do you envision traditional search and Google Assistant evolving in a\n",
       "\u001b[1;33m   \u001b[0mworld of SGE and Bard? What might this mean for commercial and non-commercial search use cases in the years     \n",
       "\u001b[1;33m   \u001b[0mahead? Ruth, can you clarify the messaging around one-timers in the quarter? It seems they were not allocated to\n",
       "\u001b[1;33m   \u001b[0mthe segments but rather are elements of Other Bets and alphabet level activities.                               \n",
       "\u001b[1;33m   \u001b[0m\u001b[1;33m • \u001b[0m\u001b[1mSundar Pichai:\u001b[0m This is an exciting time for Search. Early feedback on SGE is positive and the set of queries \n",
       "\u001b[1;33m   \u001b[0m\u001b[1;33m   \u001b[0mwhere it works well is expanding. Assistant will be complementary to Search and generative AI will be used   \n",
       "\u001b[1;33m   \u001b[0m\u001b[1;33m   \u001b[0mthere as well, particularly with Bard. Bard allows Google to act more like an agent, potentially going beyond\n",
       "\u001b[1;33m   \u001b[0m\u001b[1;33m   \u001b[0mjust providing answers and following through for users.                                                      \n",
       "\u001b[1;33m   \u001b[0m\u001b[1;33m • \u001b[0m\u001b[1mRuth Porat:\u001b[0m The $1.2 billion in exit charges related to real estate is categorized as Alphabet level         \n",
       "\u001b[1;33m   \u001b[0m\u001b[1;33m   \u001b[0mactivity. The other one-time charges are allocated across expense lines in Other Cost of Revenues and OpEx,  \n",
       "\u001b[1;33m   \u001b[0m\u001b[1;33m   \u001b[0mbased on headcount.                                                                                          \n",
       "\u001b[1;33m • \u001b[0m\u001b[1mMichael Nathanson (MoffettNathanson):\u001b[0m Can you talk about the Connected TV opportunity outside the US and what   \n",
       "\u001b[1;33m   \u001b[0mthe company is doing to drive adoption of Youtube or connected TVs? You've been consistent about the strength of\n",
       "\u001b[1;33m   \u001b[0mShorts over the past year, could you talk a bit about the monetization challenges? Do you still see the         \n",
       "\u001b[1;33m   \u001b[0mheadwinds that you saw at the beginning?                                                                        \n",
       "\u001b[1;33m   \u001b[0m\u001b[1;33m • \u001b[0m\u001b[1mPhilipp Schindler:\u001b[0m Youtube continues to perform well in the Connected TV space. Youtube is the leader in US  \n",
       "\u001b[1;33m   \u001b[0m\u001b[1;33m   \u001b[0mstreaming watch time, and this trend is not just driven by one audience group. The company is also looking   \n",
       "\u001b[1;33m   \u001b[0m\u001b[1;33m   \u001b[0mclosely at the international Connected TV space.  Shorts was built in response to demand from creators and   \n",
       "\u001b[1;33m   \u001b[0m\u001b[1;33m   \u001b[0mviewers for short-form video, and Google is happy with the growth seen. Shorts monetization continues to     \n",
       "\u001b[1;33m   \u001b[0m\u001b[1;33m   \u001b[0mprogress nicely. Since revenue sharing was introduced, total creator earnings from Shorts increased every    \n",
       "\u001b[1;33m   \u001b[0m\u001b[1;33m   \u001b[0mmonth.                                                                                                       \n",
       "\u001b[1;33m • \u001b[0m\u001b[1mStephen Ju (UBS):\u001b[0m How are you feeling about enabling SMBs who otherwise could not advertise with you before?    \n",
       "\u001b[1;33m   \u001b[0mWhat kind of TAM expansion tailwind does that create for your revenue growth over the long term?                \n",
       "\u001b[1;33m   \u001b[0m\u001b[1;33m • \u001b[0m\u001b[1mPhilipp Schindler:\u001b[0m SMBs are a huge focus for Google. They are a big part of the company's GCS channel.       \n",
       "\u001b[1;33m   \u001b[0m\u001b[1;33m   \u001b[0mGoogle's focus has been on investing in solutions that help level the playing field, allowing SMBs to compete\n",
       "\u001b[1;33m   \u001b[0m\u001b[1;33m   \u001b[0mwith larger brands.  The AI powered solutions Google is developing are making it easier for SMBs to          \n",
       "\u001b[1;33m   \u001b[0m\u001b[1;33m   \u001b[0madvertise, making the entire process easier and driving value more quickly. Google is very satisfied with    \n",
       "\u001b[1;33m   \u001b[0m\u001b[1;33m   \u001b[0mwhat they are seeing and will continue to invest.                                                            \n",
       "\u001b[1;33m • \u001b[0m\u001b[1mJustin Post (BofA):\u001b[0m Are there concerns on the use of competitive AI tools as an alternative to Search? Have you \n",
       "\u001b[1;33m   \u001b[0mseen any changes in query volumes, positive or negative, since you've seen the year evolve and more Search      \n",
       "\u001b[1;33m   \u001b[0mGenerative experiences? What can really make Google stand out versus other AI tools? Ruth, CapEx was $11        \n",
       "\u001b[1;33m   \u001b[0mbillion, a step up obviously, any one-time items in there or is that how we should think about the new run rate \n",
       "\u001b[1;33m   \u001b[0minto 2024?                                                                                                      \n",
       "\u001b[1;33m   \u001b[0m\u001b[1;33m • \u001b[0m\u001b[1mSundar Pichai:\u001b[0m  Alphabet is thinking about the effects on Search more broadly, noting that people have a lot \n",
       "\u001b[1;33m   \u001b[0m\u001b[1;33m   \u001b[0mof information choices, and user expectations are constantly evolving. Google has been working on search for \n",
       "\u001b[1;33m   \u001b[0m\u001b[1;33m   \u001b[0ma long time and a strong track record of innovation is what matters. Generative AI is a new tool in Google's \n",
       "\u001b[1;33m   \u001b[0m\u001b[1;33m   \u001b[0marsenal and there is a lot that goes into Search: the breadth, depth, diversity across verticals, etc. Google\n",
       "\u001b[1;33m   \u001b[0m\u001b[1;33m   \u001b[0mfeels very good about the progress and their roadmap for 2024 is strong.                                     \n",
       "\u001b[1;33m   \u001b[0m\u001b[1;33m • \u001b[0m\u001b[1mRuth Porat:\u001b[0m The CapEx of $11 billion in the fourth quarter is primarily due to investment in Google's        \n",
       "\u001b[1;33m   \u001b[0m\u001b[1;33m   \u001b[0mtechnical infrastructure. There are no one-time items. This reflects Alphabet's outlook for the extraordinary\n",
       "\u001b[1;33m   \u001b[0m\u001b[1;33m   \u001b[0mapplications of AI and the long-term opportunity it offers. Alphabet expects 2024 CapEx to be notably larger \n",
       "\u001b[1;33m   \u001b[0m\u001b[1;33m   \u001b[0mthan in 2023.                                                                                                \n",
       "\u001b[1;33m • \u001b[0m\u001b[1mRoss Sandler (Barclays):\u001b[0m Going back to the DOJ trial, there was a document that was disclosed from Google that  \n",
       "\u001b[1;33m   \u001b[0msaid something along the lines of \"leaning on ad quality team to deliver 20% RPM growth in Search is a fragile  \n",
       "\u001b[1;33m   \u001b[0mstrategy\". How do you feel about Google's ability to drive Search RPM going forward?                            \n",
       "\u001b[1;33m   \u001b[0m\u001b[1;33m • \u001b[0m\u001b[1mSundar Pichai:\u001b[0m Sundar has tremendous confidence in Google's quality-driven approach on Search and Ads        \n",
       "\u001b[1;33m   \u001b[0m\u001b[1;33m   \u001b[0mquality, as well as improvements on search and Ads RPM. Extraordinarily focused on Ads quality to deliver the\n",
       "\u001b[1;33m   \u001b[0m\u001b[1;33m   \u001b[0mactual ROI to advertisers and improve the user experience. All underpinned by rigor, technical excellence,   \n",
       "\u001b[1;33m   \u001b[0m\u001b[1;33m   \u001b[0mand go-to-market excellence. The fundamentals don't change, AI gives Google opportunity both on the organic  \n",
       "\u001b[1;33m   \u001b[0m\u001b[1;33m   \u001b[0mand monetization side.  Google is still in the early days of this, and believes they will be able to take a  \n",
       "\u001b[1;33m   \u001b[0m\u001b[1;33m   \u001b[0mlong-term view, serving information needs in a deeper way.                                                   \n",
       "\u001b[1;33m • \u001b[0m\u001b[1mMark Mahaney (Evercore):\u001b[0m On Cloud, there's volatility, a material deceleration last quarter and a reacceleration\n",
       "\u001b[1;33m   \u001b[0mthis quarter. Is that explained by where we are in the optimization cycle? Could generative AI workloads be     \n",
       "\u001b[1;33m   \u001b[0mstarting to trickle in now and cause that growth curve to bend back up? Philipp, I wanted to ask on the creative\n",
       "\u001b[1;33m   \u001b[0mside, particularly on Youtube and Ads, using AI to improve the creative and really to offer SMBs who have been  \n",
       "\u001b[1;33m   \u001b[0mwith Google forever performance-based video ad campaigns. Is that a new growth area? How far along are you in   \n",
       "\u001b[1;33m   \u001b[0mterms of offering this out into the market and do you think this opens up a new area of spend that wasn't there \n",
       "\u001b[1;33m   \u001b[0mbefore?                                                                                                         \n",
       "\u001b[1;33m   \u001b[0m\u001b[1;33m • \u001b[0m\u001b[1mSundar Pichai:\u001b[0m Excitement around AI solutions on top of Google Cloud's foundational pillars (data analytics, \n",
       "\u001b[1;33m   \u001b[0m\u001b[1;33m   \u001b[0minfrastructure, security, etc.) is driving interest and early adoption. Over 70% of generative AI unicorns   \n",
       "\u001b[1;33m   \u001b[0m\u001b[1;33m   \u001b[0mare using Google Cloud.  This is an area where Alphabet's strengths will continue to play out, especially    \n",
       "\u001b[1;33m   \u001b[0m\u001b[1;33m   \u001b[0mgiven the innovation ahead from Google on the AI front. Regional variations exist, but cost optimizations in \n",
       "\u001b[1;33m   \u001b[0m\u001b[1;33m   \u001b[0mmany areas have mostly been worked through.                                                                  \n",
       "\u001b[1;33m   \u001b[0m\u001b[1;33m • \u001b[0m\u001b[1mPhilipp Schindler:\u001b[0m  Youtube's mission has been to enable millions of creators to share their voice, connect  \n",
       "\u001b[1;33m   \u001b[0m\u001b[1;33m   \u001b[0mwith audiences, and build thriving businesses. AI has been a critical piece of this. Generative AI can be    \n",
       "\u001b[1;33m   \u001b[0m\u001b[1;33m   \u001b[0mtaken to the advertising world.  AI continues to power a lot of Google's video ad solutions and measurement  \n",
       "\u001b[1;33m   \u001b[0m\u001b[1;33m   \u001b[0mcapabilities. This is part of video reach campaigns and multi-format ads. Generative AI can also make it     \n",
       "\u001b[1;33m   \u001b[0m\u001b[1;33m   \u001b[0measier for creators to design the perfect soundtrack. AI will unlock a new world of creativity and this will \n",
       "\u001b[1;33m   \u001b[0m\u001b[1;33m   \u001b[0mimpact and positively impact and simplify the flow for creators, similar to what is already emerging with    \n",
       "\u001b[1;33m   \u001b[0m\u001b[1;33m   \u001b[0mproducts like ACA.                                                                                           \n"
      ]
     },
     "execution_count": 22,
     "metadata": {},
     "output_type": "execute_result"
    }
   ],
   "source": [
    "%%time\n",
    "\n",
    "prompt_parts = [\n",
    "  earning_calls,\n",
    "  \"what are major comments by Sundar and Ruth about AI and what key questions were asked by analyst and give their name? give answer in bullets \",\n",
    "]\n",
    "response = model.generate_content(prompt_parts,request_options={\"timeout\": 600})\n",
    "rich_Markdown(response.text)"
   ]
  },
  {
   "cell_type": "code",
   "execution_count": 23,
   "id": "d3f89c61",
   "metadata": {},
   "outputs": [
    {
     "name": "stdout",
     "output_type": "stream",
     "text": [
      "CPU times: user 16.9 ms, sys: 13 ms, total: 29.9 ms\n",
      "Wall time: 29.1 s\n"
     ]
    },
    {
     "data": {
      "text/html": [
       "<pre style=\"white-space:pre;overflow-x:auto;line-height:normal;font-family:Menlo,'DejaVu Sans Mono',consolas,'Courier New',monospace\">Here's a breakdown of Sundar and Ruth's comments on AI, along with key analyst questions:                          \n",
       "\n",
       "<span style=\"font-weight: bold\">Sundar's Key AI Comments:</span>                                                                                          \n",
       "\n",
       "<span style=\"color: #808000; text-decoration-color: #808000; font-weight: bold\"> • </span><span style=\"font-weight: bold\">Investments in AI:</span>  Sundar highlighted Alphabet's commitment to AI, emphasizing its role in improving products  \n",
       "<span style=\"color: #808000; text-decoration-color: #808000; font-weight: bold\">   </span>like Search, Ads, and consumer/enterprise offerings.                                                            \n",
       "<span style=\"color: #808000; text-decoration-color: #808000; font-weight: bold\"> • </span><span style=\"font-weight: bold\">Gemini:</span> Sundar positioned Gemini as a major milestone in AI development, a multimodal AI capable of             \n",
       "<span style=\"color: #808000; text-decoration-color: #808000; font-weight: bold\">   </span>understanding and combining various data formats (text, images, audio, video, code).                            \n",
       "<span style=\"color: #808000; text-decoration-color: #808000; font-weight: bold\"> • </span><span style=\"font-weight: bold\">AI-powered Search:</span> He discussed how Gemini is being integrated into Search, accelerating the experience and     \n",
       "<span style=\"color: #808000; text-decoration-color: #808000; font-weight: bold\">   </span>expanding the range of information needs it can address.                                                        \n",
       "<span style=\"color: #808000; text-decoration-color: #808000; font-weight: bold\"> • </span><span style=\"font-weight: bold\">AI for Advertisers:</span> Sundar mentioned new AI-powered solutions for advertisers, including conversational         \n",
       "<span style=\"color: #808000; text-decoration-color: #808000; font-weight: bold\">   </span>experiences for campaign creation and Bard, a conversational AI tool.                                           \n",
       "<span style=\"color: #808000; text-decoration-color: #808000; font-weight: bold\"> • </span><span style=\"font-weight: bold\">Focus on Growth Opportunities:</span> He underlined Alphabet's commitment to investing in AI-powered services for both \n",
       "<span style=\"color: #808000; text-decoration-color: #808000; font-weight: bold\">   </span>the company and its customers.                                                                                  \n",
       "\n",
       "<span style=\"font-weight: bold\">Ruth's Key AI Comments:</span>                                                                                            \n",
       "\n",
       "<span style=\"color: #808000; text-decoration-color: #808000; font-weight: bold\"> • </span><span style=\"font-weight: bold\">Google Cloud Growth:</span> Ruth highlighted the increasing contribution of AI to Google Cloud's growth, emphasizing   \n",
       "<span style=\"color: #808000; text-decoration-color: #808000; font-weight: bold\">   </span>the company's commitment to bringing AI technology to businesses and governments globally.                      \n",
       "<span style=\"color: #808000; text-decoration-color: #808000; font-weight: bold\"> • </span><span style=\"font-weight: bold\">AI as a Competitive Advantage:</span> Ruth noted that the demand for Google Cloud's AI-integrated portfolio is creating\n",
       "<span style=\"color: #808000; text-decoration-color: #808000; font-weight: bold\">   </span>new opportunities, setting the stage for further growth.                                                        \n",
       "\n",
       "<span style=\"font-weight: bold\">Key Analyst Questions:</span>                                                                                             \n",
       "\n",
       "<span style=\"color: #808000; text-decoration-color: #808000; font-weight: bold\"> • </span><span style=\"font-weight: bold\">Brian Nowak (Morgan Stanley):</span>                                                                                   \n",
       "<span style=\"color: #808000; text-decoration-color: #808000; font-weight: bold\">    • </span><span style=\"font-weight: bold\">Hurdle &amp; Gating Factors:</span> Asked about potential hurdles and gating factors that might slow the broad rollout  \n",
       "<span style=\"color: #808000; text-decoration-color: #808000; font-weight: bold\">      </span>of new generative AI advertising tools.                                                                      \n",
       "<span style=\"color: #808000; text-decoration-color: #808000; font-weight: bold\">    • </span><span style=\"font-weight: bold\">Sales Force Intensity:</span>  Inquired about the long-term impact of AI-based tools like PMax on advertising sales \n",
       "<span style=\"color: #808000; text-decoration-color: #808000; font-weight: bold\">      </span>force intensity.                                                                                             \n",
       "<span style=\"color: #808000; text-decoration-color: #808000; font-weight: bold\"> • </span><span style=\"font-weight: bold\">Doug Anmuth (JP Morgan):</span>                                                                                        \n",
       "<span style=\"color: #808000; text-decoration-color: #808000; font-weight: bold\">    • </span><span style=\"font-weight: bold\">Progress on Cost Structure:</span> Asked Ruth to assess the progress made in the second year of Alphabet's efforts  \n",
       "<span style=\"color: #808000; text-decoration-color: #808000; font-weight: bold\">      </span>to re-engineer its cost structure.                                                                           \n",
       "<span style=\"color: #808000; text-decoration-color: #808000; font-weight: bold\">    • </span><span style=\"font-weight: bold\">NFL Sunday Ticket:</span> Wanted Philip to discuss key learnings from the first year of NFL Sunday Ticket and how   \n",
       "<span style=\"color: #808000; text-decoration-color: #808000; font-weight: bold\">      </span>Alphabet is thinking about returns on investment.                                                            \n",
       "<span style=\"color: #808000; text-decoration-color: #808000; font-weight: bold\"> • </span><span style=\"font-weight: bold\">Eric Sheridan (Goldman Sachs):</span>                                                                                  \n",
       "<span style=\"color: #808000; text-decoration-color: #808000; font-weight: bold\">    • </span><span style=\"font-weight: bold\">Search Evolution:</span> Asked Sundar to discuss how traditional search and services like Google Assistant will     \n",
       "<span style=\"color: #808000; text-decoration-color: #808000; font-weight: bold\">      </span>evolve in a world with generative AI experiences like Bard.                                                  \n",
       "<span style=\"color: #808000; text-decoration-color: #808000; font-weight: bold\">    • </span><span style=\"font-weight: bold\">One-Time Expenses:</span> Inquired about the allocation of one-time expenses mentioned in the earnings release and  \n",
       "<span style=\"color: #808000; text-decoration-color: #808000; font-weight: bold\">      </span>whether they were related to specific segments or other Alphabet-level activities.                           \n",
       "<span style=\"color: #808000; text-decoration-color: #808000; font-weight: bold\"> • </span><span style=\"font-weight: bold\">Michael Nathanson (MoffettNathanson):</span>                                                                           \n",
       "<span style=\"color: #808000; text-decoration-color: #808000; font-weight: bold\">    • </span><span style=\"font-weight: bold\">Connected TV Opportunity:</span> Asked about opportunities outside the U.S. for Connected TV engagement and what    \n",
       "<span style=\"color: #808000; text-decoration-color: #808000; font-weight: bold\">      </span>Alphabet is doing to drive adoption.                                                                         \n",
       "<span style=\"color: #808000; text-decoration-color: #808000; font-weight: bold\">    • </span><span style=\"font-weight: bold\">Short Monetization:</span>  Asked about the ongoing challenges of monetizing YouTube Shorts and whether they remain \n",
       "<span style=\"color: #808000; text-decoration-color: #808000; font-weight: bold\">      </span>a headwind to growth.                                                                                        \n",
       "<span style=\"color: #808000; text-decoration-color: #808000; font-weight: bold\"> • </span><span style=\"font-weight: bold\">Justin Post (Bank of America Merrill Lynch):</span>                                                                    \n",
       "<span style=\"color: #808000; text-decoration-color: #808000; font-weight: bold\">    • </span><span style=\"font-weight: bold\">Search Growth &amp; Competition:</span>  Asked about whether Alphabet is seeing any changes in query volume due to the  \n",
       "<span style=\"color: #808000; text-decoration-color: #808000; font-weight: bold\">      </span>use of competitive AI tools, and what sets Google Search apart.                                              \n",
       "<span style=\"color: #808000; text-decoration-color: #808000; font-weight: bold\">    • </span><span style=\"font-weight: bold\">CapEx:</span> Asked Ruth to clarify whether the $11 billion CapEx in Q4 included any one-time items, or if it       \n",
       "<span style=\"color: #808000; text-decoration-color: #808000; font-weight: bold\">      </span>reflects the new run rate for 2024.                                                                          \n",
       "<span style=\"color: #808000; text-decoration-color: #808000; font-weight: bold\">    • </span><span style=\"font-weight: bold\">YouTube AI &amp; Creatives:</span>  Asked Philip about the potential of AI-generated creatives for advertisers on       \n",
       "<span style=\"color: #808000; text-decoration-color: #808000; font-weight: bold\">      </span>YouTube and the current stage of its rollout.                                                                \n",
       "</pre>\n"
      ],
      "text/plain": [
       "Here's a breakdown of Sundar and Ruth's comments on AI, along with key analyst questions:                          \n",
       "\n",
       "\u001b[1mSundar's Key AI Comments:\u001b[0m                                                                                          \n",
       "\n",
       "\u001b[1;33m • \u001b[0m\u001b[1mInvestments in AI:\u001b[0m  Sundar highlighted Alphabet's commitment to AI, emphasizing its role in improving products  \n",
       "\u001b[1;33m   \u001b[0mlike Search, Ads, and consumer/enterprise offerings.                                                            \n",
       "\u001b[1;33m • \u001b[0m\u001b[1mGemini:\u001b[0m Sundar positioned Gemini as a major milestone in AI development, a multimodal AI capable of             \n",
       "\u001b[1;33m   \u001b[0munderstanding and combining various data formats (text, images, audio, video, code).                            \n",
       "\u001b[1;33m • \u001b[0m\u001b[1mAI-powered Search:\u001b[0m He discussed how Gemini is being integrated into Search, accelerating the experience and     \n",
       "\u001b[1;33m   \u001b[0mexpanding the range of information needs it can address.                                                        \n",
       "\u001b[1;33m • \u001b[0m\u001b[1mAI for Advertisers:\u001b[0m Sundar mentioned new AI-powered solutions for advertisers, including conversational         \n",
       "\u001b[1;33m   \u001b[0mexperiences for campaign creation and Bard, a conversational AI tool.                                           \n",
       "\u001b[1;33m • \u001b[0m\u001b[1mFocus on Growth Opportunities:\u001b[0m He underlined Alphabet's commitment to investing in AI-powered services for both \n",
       "\u001b[1;33m   \u001b[0mthe company and its customers.                                                                                  \n",
       "\n",
       "\u001b[1mRuth's Key AI Comments:\u001b[0m                                                                                            \n",
       "\n",
       "\u001b[1;33m • \u001b[0m\u001b[1mGoogle Cloud Growth:\u001b[0m Ruth highlighted the increasing contribution of AI to Google Cloud's growth, emphasizing   \n",
       "\u001b[1;33m   \u001b[0mthe company's commitment to bringing AI technology to businesses and governments globally.                      \n",
       "\u001b[1;33m • \u001b[0m\u001b[1mAI as a Competitive Advantage:\u001b[0m Ruth noted that the demand for Google Cloud's AI-integrated portfolio is creating\n",
       "\u001b[1;33m   \u001b[0mnew opportunities, setting the stage for further growth.                                                        \n",
       "\n",
       "\u001b[1mKey Analyst Questions:\u001b[0m                                                                                             \n",
       "\n",
       "\u001b[1;33m • \u001b[0m\u001b[1mBrian Nowak (Morgan Stanley):\u001b[0m                                                                                   \n",
       "\u001b[1;33m   \u001b[0m\u001b[1;33m • \u001b[0m\u001b[1mHurdle & Gating Factors:\u001b[0m Asked about potential hurdles and gating factors that might slow the broad rollout  \n",
       "\u001b[1;33m   \u001b[0m\u001b[1;33m   \u001b[0mof new generative AI advertising tools.                                                                      \n",
       "\u001b[1;33m   \u001b[0m\u001b[1;33m • \u001b[0m\u001b[1mSales Force Intensity:\u001b[0m  Inquired about the long-term impact of AI-based tools like PMax on advertising sales \n",
       "\u001b[1;33m   \u001b[0m\u001b[1;33m   \u001b[0mforce intensity.                                                                                             \n",
       "\u001b[1;33m • \u001b[0m\u001b[1mDoug Anmuth (JP Morgan):\u001b[0m                                                                                        \n",
       "\u001b[1;33m   \u001b[0m\u001b[1;33m • \u001b[0m\u001b[1mProgress on Cost Structure:\u001b[0m Asked Ruth to assess the progress made in the second year of Alphabet's efforts  \n",
       "\u001b[1;33m   \u001b[0m\u001b[1;33m   \u001b[0mto re-engineer its cost structure.                                                                           \n",
       "\u001b[1;33m   \u001b[0m\u001b[1;33m • \u001b[0m\u001b[1mNFL Sunday Ticket:\u001b[0m Wanted Philip to discuss key learnings from the first year of NFL Sunday Ticket and how   \n",
       "\u001b[1;33m   \u001b[0m\u001b[1;33m   \u001b[0mAlphabet is thinking about returns on investment.                                                            \n",
       "\u001b[1;33m • \u001b[0m\u001b[1mEric Sheridan (Goldman Sachs):\u001b[0m                                                                                  \n",
       "\u001b[1;33m   \u001b[0m\u001b[1;33m • \u001b[0m\u001b[1mSearch Evolution:\u001b[0m Asked Sundar to discuss how traditional search and services like Google Assistant will     \n",
       "\u001b[1;33m   \u001b[0m\u001b[1;33m   \u001b[0mevolve in a world with generative AI experiences like Bard.                                                  \n",
       "\u001b[1;33m   \u001b[0m\u001b[1;33m • \u001b[0m\u001b[1mOne-Time Expenses:\u001b[0m Inquired about the allocation of one-time expenses mentioned in the earnings release and  \n",
       "\u001b[1;33m   \u001b[0m\u001b[1;33m   \u001b[0mwhether they were related to specific segments or other Alphabet-level activities.                           \n",
       "\u001b[1;33m • \u001b[0m\u001b[1mMichael Nathanson (MoffettNathanson):\u001b[0m                                                                           \n",
       "\u001b[1;33m   \u001b[0m\u001b[1;33m • \u001b[0m\u001b[1mConnected TV Opportunity:\u001b[0m Asked about opportunities outside the U.S. for Connected TV engagement and what    \n",
       "\u001b[1;33m   \u001b[0m\u001b[1;33m   \u001b[0mAlphabet is doing to drive adoption.                                                                         \n",
       "\u001b[1;33m   \u001b[0m\u001b[1;33m • \u001b[0m\u001b[1mShort Monetization:\u001b[0m  Asked about the ongoing challenges of monetizing YouTube Shorts and whether they remain \n",
       "\u001b[1;33m   \u001b[0m\u001b[1;33m   \u001b[0ma headwind to growth.                                                                                        \n",
       "\u001b[1;33m • \u001b[0m\u001b[1mJustin Post (Bank of America Merrill Lynch):\u001b[0m                                                                    \n",
       "\u001b[1;33m   \u001b[0m\u001b[1;33m • \u001b[0m\u001b[1mSearch Growth & Competition:\u001b[0m  Asked about whether Alphabet is seeing any changes in query volume due to the  \n",
       "\u001b[1;33m   \u001b[0m\u001b[1;33m   \u001b[0muse of competitive AI tools, and what sets Google Search apart.                                              \n",
       "\u001b[1;33m   \u001b[0m\u001b[1;33m • \u001b[0m\u001b[1mCapEx:\u001b[0m Asked Ruth to clarify whether the $11 billion CapEx in Q4 included any one-time items, or if it       \n",
       "\u001b[1;33m   \u001b[0m\u001b[1;33m   \u001b[0mreflects the new run rate for 2024.                                                                          \n",
       "\u001b[1;33m   \u001b[0m\u001b[1;33m • \u001b[0m\u001b[1mYouTube AI & Creatives:\u001b[0m  Asked Philip about the potential of AI-generated creatives for advertisers on       \n",
       "\u001b[1;33m   \u001b[0m\u001b[1;33m   \u001b[0mYouTube and the current stage of its rollout.                                                                \n"
      ]
     },
     "execution_count": 23,
     "metadata": {},
     "output_type": "execute_result"
    }
   ],
   "source": [
    "%%time\n",
    "\n",
    "response = model_flash.generate_content(prompt_parts)\n",
    "rich_Markdown(response.text)"
   ]
  },
  {
   "cell_type": "code",
   "execution_count": 24,
   "id": "94e25b5a",
   "metadata": {},
   "outputs": [],
   "source": [
    "# delete the file\n",
    "genai.delete_file(name=earning_calls.name)"
   ]
  },
  {
   "cell_type": "code",
   "execution_count": 25,
   "id": "898f5961",
   "metadata": {},
   "outputs": [],
   "source": [
    "#@title Helper Functions\n",
    "## Helper Function\n",
    "\n",
    "import os\n",
    "from pdf2image import convert_from_path\n",
    "\n",
    "def pdf_to_images(file_path, output_folder=\"output_folder\"):\n",
    "    \"\"\"Converts a PDF file into images for each page, saves them to a folder, and returns a list of image paths.\"\"\"\n",
    "\n",
    "    # Create output folder if it doesn't exist\n",
    "    if not os.path.exists(output_folder):\n",
    "        os.makedirs(output_folder)\n",
    "\n",
    "    # Convert PDF to images\n",
    "    images = convert_from_path(file_path, dpi=200, output_folder=output_folder, fmt=\"jpg\")\n",
    "\n",
    "    # Generate image paths\n",
    "    image_paths = []\n",
    "    pages_list = []\n",
    "    upload_file_name = []\n",
    "    for i, image in enumerate(images):\n",
    "        image_name = f\"page_{i+1}.jpg\"  # Page numbers start from 1\n",
    "        image_path = os.path.join(output_folder, image_name)\n",
    "        image.save(image_path, \"JPEG\")\n",
    "        image_paths.append(image_path)\n",
    "        files_to_upload = genai.upload_file(image_path, display_name=image_path)\n",
    "        pages_list.append(files_to_upload)\n",
    "        upload_file_name.append([files_to_upload.name, files_to_upload.display_name])\n",
    "\n",
    "    return image_paths, pages_list, upload_file_name\n",
    "\n",
    "def make_request(prompt, files):\n",
    "  request = [prompt]\n",
    "  for file in files:\n",
    "    request.append(file)\n",
    "  return request\n",
    "\n",
    "def delete_files(output_folder):\n",
    "  for filename in os.listdir(output_folder):\n",
    "    if filename.endswith(\".jpg\"):\n",
    "      file_path = os.path.join(output_folder, filename)\n",
    "      genai.delete_file(name=file_path)\n"
   ]
  },
  {
   "cell_type": "code",
   "execution_count": 40,
   "id": "cb3dc433",
   "metadata": {},
   "outputs": [],
   "source": [
    "import poppler"
   ]
  },
  {
   "cell_type": "code",
   "execution_count": 43,
   "id": "8f6c98ca",
   "metadata": {},
   "outputs": [
    {
     "name": "stdout",
     "output_type": "stream",
     "text": [
      "CPU times: user 1.7 s, sys: 271 ms, total: 1.97 s\n",
      "Wall time: 1min 20s\n"
     ]
    }
   ],
   "source": [
    "%%time\n",
    "file_path2 = file_path + \"/stage_1_prototype_Google Cloud TPU blog.pdf\"\n",
    "output_folder = file_path + \"/content/output_images/\"\n",
    "image_paths, pages_list, upload_file_name = pdf_to_images(file_path2, output_folder)\n",
    "\n",
    "\n",
    "# response = model.generate_content(\n",
    "# make_request(\"what is the emfu for bf16 and 128b parameter model with 1 tpu v5e pod? Cite the table and page number and explain the significance of the results\",\n",
    "#              pages_list),request_options={\"timeout\": 600})\n",
    "# rich_Markdown(response.text)"
   ]
  },
  {
   "cell_type": "code",
   "execution_count": 44,
   "id": "1f0c1ad7",
   "metadata": {},
   "outputs": [
    {
     "name": "stdout",
     "output_type": "stream",
     "text": [
      "CPU times: user 10.1 ms, sys: 24 ms, total: 34.1 ms\n",
      "Wall time: 4.32 s\n"
     ]
    },
    {
     "data": {
      "text/html": [
       "<pre style=\"white-space:pre;overflow-x:auto;line-height:normal;font-family:Menlo,'DejaVu Sans Mono',consolas,'Courier New',monospace\">The provided document does not contain a table showing EMFU for a BF16 and 128B parameter model with 1 TPU v5e pod.\n",
       "Therefore, I cannot answer your question.                                                                          \n",
       "</pre>\n"
      ],
      "text/plain": [
       "The provided document does not contain a table showing EMFU for a BF16 and 128B parameter model with 1 TPU v5e pod.\n",
       "Therefore, I cannot answer your question.                                                                          \n"
      ]
     },
     "execution_count": 44,
     "metadata": {},
     "output_type": "execute_result"
    }
   ],
   "source": [
    "%%time\n",
    "response = model.generate_content(\n",
    "make_request(\"what is the emfu for bf16 and 128b parameter model with 1 tpu v5e pod? Cite the table and page number and explain the significance of the results\",\n",
    "             pages_list),request_options={\"timeout\": 600})\n",
    "rich_Markdown(response.text)"
   ]
  },
  {
   "cell_type": "code",
   "execution_count": 45,
   "id": "773be396",
   "metadata": {},
   "outputs": [
    {
     "name": "stdout",
     "output_type": "stream",
     "text": [
      "Deleteing... files/5m0h9pay5o68\n",
      "Deleteing... files/5v7myesfat61\n",
      "Deleteing... files/upo8jyad4wba\n",
      "Deleteing... files/xzc07mqmnhnw\n",
      "Deleteing... files/10678nab74d8\n",
      "Deleteing... files/qfu4y53xmzh1\n",
      "Deleteing... files/3cp1fakmaqq\n",
      "Deleteing... files/44x25cacx7sh\n",
      "Deleteing... files/jljm9owh4z3v\n",
      "Deleteing... files/mywhlju3cnoa\n",
      "Deleteing... files/4gtzhr6jzcru\n",
      "Deleteing... files/fc10h6sw3myp\n",
      "Deleteing... files/60rjomn0kgwk\n",
      "Deleteing... files/2skodpli1jy4\n",
      "Deleteing... files/hwnu0bpiasoq\n",
      "Deleteing... files/akbi8d2xnc7w\n",
      "Deleteing... files/qmr8nsbfn8dq\n",
      "Deleteing... files/a0d51c95ok0p\n"
     ]
    }
   ],
   "source": [
    "for filename in upload_file_name:\n",
    "  print(\"Deleteing...\",filename[0])\n",
    "  genai.delete_file(name=filename[0])"
   ]
  },
  {
   "cell_type": "code",
   "execution_count": 59,
   "id": "56afff60",
   "metadata": {},
   "outputs": [],
   "source": [
    "#@title Helper Functions\n",
    "## Helper Function\n",
    "\n",
    "import cv2\n",
    "import os\n",
    "import shutil\n",
    "\n",
    "def process_video(video_file_path, full_video=False):\n",
    "    \"\"\"\n",
    "    Extracts frames from a video, optionally uploads them, and returns a list of File objects.\n",
    "\n",
    "    Args:\n",
    "        video_file_path (str): Path to the video file.\n",
    "        full_video (bool, optional): If True, uploads all frames. Otherwise, uploads a 10-second slice. Defaults to False.\n",
    "\n",
    "    Returns:\n",
    "        list: A list of File objects, each containing file path, response (if uploaded), and timestamp.\n",
    "    \"\"\"\n",
    "\n",
    "    FRAME_EXTRACTION_DIRECTORY = file_path + \"/content/frames\"\n",
    "    FRAME_PREFIX = \"_frame\"\n",
    "\n",
    "    def create_frame_output_dir(output_dir):\n",
    "        \"\"\"Creates or cleans up the frame output directory.\"\"\"\n",
    "        if not os.path.exists(output_dir):\n",
    "            os.makedirs(output_dir)\n",
    "        else:\n",
    "            shutil.rmtree(output_dir)\n",
    "            os.makedirs(output_dir)\n",
    "\n",
    "    def get_timestamp(filename):\n",
    "        \"\"\"Extracts the timestamp from a frame filename.\"\"\"\n",
    "        parts = filename.split(FRAME_PREFIX)\n",
    "        if len(parts) != 2:\n",
    "            return None  # Incorrect format\n",
    "        return parts[1].split('.')[0]\n",
    "\n",
    "    class File:\n",
    "        \"\"\"Represents a file with path, display name, timestamp, and optional response.\"\"\"\n",
    "        def __init__(self, file_path, display_name=None):\n",
    "            self.file_path = file_path\n",
    "            self.display_name = display_name or os.path.basename(file_path)\n",
    "            self.timestamp = get_timestamp(file_path)\n",
    "\n",
    "        def set_file_response(self, response):\n",
    "            self.response = response\n",
    "\n",
    "    # Extract frames\n",
    "    create_frame_output_dir(FRAME_EXTRACTION_DIRECTORY)\n",
    "    vidcap = cv2.VideoCapture(video_file_path)\n",
    "    if not vidcap.isOpened():\n",
    "        raise ValueError(\"Could not open video file.\")\n",
    "\n",
    "    fps = vidcap.get(cv2.CAP_PROP_FPS)\n",
    "    frame_duration = 1 / fps\n",
    "    output_file_prefix = os.path.basename(video_file_path).replace('.', '_')\n",
    "    frame_count = 0\n",
    "    count = 0\n",
    "\n",
    "    while vidcap.isOpened():\n",
    "        success, frame = vidcap.read()\n",
    "        if not success:\n",
    "            break  # End of video\n",
    "\n",
    "        if int(count / fps) == frame_count:\n",
    "            min = frame_count // 60\n",
    "            sec = frame_count % 60\n",
    "            time_string = f\"{min:02d}:{sec:02d}\"\n",
    "            image_name = f\"{output_file_prefix}{FRAME_PREFIX}{time_string}.jpg\"\n",
    "            output_filename = os.path.join(FRAME_EXTRACTION_DIRECTORY, image_name)\n",
    "            cv2.imwrite(output_filename, frame)\n",
    "            frame_count += 1\n",
    "\n",
    "        count += 1\n",
    "\n",
    "    vidcap.release()\n",
    "    # print(f\"Extracted: {frame_count} frames\")\n",
    "\n",
    "    # Process and optionally upload frames\n",
    "    files = [File(os.path.join(FRAME_EXTRACTION_DIRECTORY, file)) for file in sorted(os.listdir(FRAME_EXTRACTION_DIRECTORY))]\n",
    "    files_to_upload = files if full_video else files[40:50]  # Adjust slice as needed\n",
    "\n",
    "    uploaded_files = []\n",
    "    # print(f'Uploading {len(files_to_upload)} files...')\n",
    "    for file in files_to_upload:\n",
    "        # print(f'Uploading: {file.file_path}...')\n",
    "        try:\n",
    "            response = genai.upload_file(path=file.file_path)  # Assuming 'genai' is available\n",
    "            file.set_file_response(response)\n",
    "            uploaded_files.append(file)\n",
    "        except Exception as e:\n",
    "            print(f\"Error uploading {file.file_path}: {e}\")\n",
    "\n",
    "    # print(f\"Uploaded: {len(uploaded_files)} files\")\n",
    "    return uploaded_files\n",
    "\n",
    "# Make GenerateContent request with the structure described above.\n",
    "def make_request(prompt, files):\n",
    "  request = [prompt]\n",
    "  for file in files:\n",
    "    request.append(file.timestamp)\n",
    "    request.append(file.response)\n",
    "  return request\n",
    "   "
   ]
  },
  {
   "cell_type": "code",
   "execution_count": 49,
   "id": "5092a148",
   "metadata": {},
   "outputs": [
    {
     "name": "stdout",
     "output_type": "stream",
     "text": [
      "Collecting opencv-python\n",
      "  Downloading opencv_python-4.9.0.80-cp37-abi3-macosx_10_16_x86_64.whl.metadata (20 kB)\n",
      "Requirement already satisfied: numpy>=1.21.2 in /Applications/anaconda3/lib/python3.10/site-packages (from opencv-python) (1.23.5)\n",
      "Downloading opencv_python-4.9.0.80-cp37-abi3-macosx_10_16_x86_64.whl (55.7 MB)\n",
      "\u001b[2K   \u001b[90m━━━━━━━━━━━━━━━━━━━━━━━━━━━━━━━━━━━━━━━━\u001b[0m \u001b[32m55.7/55.7 MB\u001b[0m \u001b[31m28.0 MB/s\u001b[0m eta \u001b[36m0:00:00\u001b[0m00:01\u001b[0m00:01\u001b[0m\n",
      "\u001b[?25hInstalling collected packages: opencv-python\n",
      "Successfully installed opencv-python-4.9.0.80\n",
      "Note: you may need to restart the kernel to use updated packages.\n"
     ]
    }
   ],
   "source": [
    "pip install opencv-python"
   ]
  },
  {
   "cell_type": "code",
   "execution_count": 63,
   "id": "2c961f22",
   "metadata": {},
   "outputs": [],
   "source": [
    "# Upload a video ~ 1min\n",
    "# video_file_name = file_path + \"/What's next for AI and Google Search _ Google I_O 2023.mp4\"\n",
    "video_file_name = file_path + \"/vid.mp4\"\n",
    "# file_path = file_path2\n",
    "processed_files_search = process_video(video_file_name, full_video=True)"
   ]
  },
  {
   "cell_type": "code",
   "execution_count": 61,
   "id": "0958bad5",
   "metadata": {},
   "outputs": [
    {
     "data": {
      "text/plain": [
       "'/Users/branchco/Downloads/drive-download-20240518T123726Z-001'"
      ]
     },
     "execution_count": 61,
     "metadata": {},
     "output_type": "execute_result"
    }
   ],
   "source": [
    "file_path"
   ]
  },
  {
   "cell_type": "code",
   "execution_count": 62,
   "id": "891a3d91",
   "metadata": {},
   "outputs": [
    {
     "data": {
      "text/plain": [
       "\"/Users/branchco/Downloads/drive-download-20240518T123726Z-001/What's next for AI and Google Search _ Google I_O 2023.mp4\""
      ]
     },
     "execution_count": 62,
     "metadata": {},
     "output_type": "execute_result"
    }
   ],
   "source": [
    "video_file_name"
   ]
  },
  {
   "cell_type": "code",
   "execution_count": 64,
   "id": "ec546084",
   "metadata": {},
   "outputs": [
    {
     "name": "stdout",
     "output_type": "stream",
     "text": [
      "CPU times: user 54.3 ms, sys: 36.4 ms, total: 90.7 ms\n",
      "Wall time: 46.6 s\n"
     ]
    },
    {
     "data": {
      "text/html": [
       "<pre style=\"white-space:pre;overflow-x:auto;line-height:normal;font-family:Menlo,'DejaVu Sans Mono',consolas,'Courier New',monospace\">The video you provided is a white screen. There is no visual content to describe.                                  \n",
       "\n",
       "However, Google is indeed using generative AI in search in a number of ways:                                       \n",
       "\n",
       "<span style=\"color: #808000; text-decoration-color: #808000; font-weight: bold\"> • </span><span style=\"font-weight: bold\">AI-powered summaries:</span> For certain search queries, Google will use AI to generate a concise summary of relevant  \n",
       "<span style=\"color: #808000; text-decoration-color: #808000; font-weight: bold\">   </span>information from top web pages. This helps users get a quick overview of a topic without having to click through\n",
       "<span style=\"color: #808000; text-decoration-color: #808000; font-weight: bold\">   </span>multiple links.                                                                                                 \n",
       "<span style=\"color: #808000; text-decoration-color: #808000; font-weight: bold\"> • </span><span style=\"font-weight: bold\">Conversational search:</span> Google's Search Generative Experience (SGE) and Bard are both AI-powered chatbots that   \n",
       "<span style=\"color: #808000; text-decoration-color: #808000; font-weight: bold\">   </span>allow users to engage in conversational search. This allows users to ask follow-up questions, clarify their     \n",
       "<span style=\"color: #808000; text-decoration-color: #808000; font-weight: bold\">   </span>search intent, and receive more personalized search results.                                                    \n",
       "<span style=\"color: #808000; text-decoration-color: #808000; font-weight: bold\"> • </span><span style=\"font-weight: bold\">\"About this image\" feature:</span> Google is leveraging AI to help users identify AI-generated images and understand   \n",
       "<span style=\"color: #808000; text-decoration-color: #808000; font-weight: bold\">   </span>their context. The \"About this image\" feature provides information on when and where an image was first indexed \n",
       "<span style=\"color: #808000; text-decoration-color: #808000; font-weight: bold\">   </span>by Google and surfaces web pages where the image appears. This aims to improve transparency and help users      \n",
       "<span style=\"color: #808000; text-decoration-color: #808000; font-weight: bold\">   </span>identify potential misinformation.                                                                              \n",
       "<span style=\"color: #808000; text-decoration-color: #808000; font-weight: bold\"> • </span><span style=\"font-weight: bold\">Universal Translator:</span> This experimental tool utilizes generative AI to translate and dub videos while           \n",
       "<span style=\"color: #808000; text-decoration-color: #808000; font-weight: bold\">   </span>maintaining the speaker's original voice and lip movements. This technology has the potential to break down     \n",
       "<span style=\"color: #808000; text-decoration-color: #808000; font-weight: bold\">   </span>language barriers and make video content more accessible to a global audience.                                  \n",
       "\n",
       "It's important to note that Google is still actively developing and refining its generative AI features for search.\n",
       "These are just some examples of how Google is incorporating this technology to enhance the search experience,      \n",
       "combat misinformation, and make information more accessible.                                                       \n",
       "</pre>\n"
      ],
      "text/plain": [
       "The video you provided is a white screen. There is no visual content to describe.                                  \n",
       "\n",
       "However, Google is indeed using generative AI in search in a number of ways:                                       \n",
       "\n",
       "\u001b[1;33m • \u001b[0m\u001b[1mAI-powered summaries:\u001b[0m For certain search queries, Google will use AI to generate a concise summary of relevant  \n",
       "\u001b[1;33m   \u001b[0minformation from top web pages. This helps users get a quick overview of a topic without having to click through\n",
       "\u001b[1;33m   \u001b[0mmultiple links.                                                                                                 \n",
       "\u001b[1;33m • \u001b[0m\u001b[1mConversational search:\u001b[0m Google's Search Generative Experience (SGE) and Bard are both AI-powered chatbots that   \n",
       "\u001b[1;33m   \u001b[0mallow users to engage in conversational search. This allows users to ask follow-up questions, clarify their     \n",
       "\u001b[1;33m   \u001b[0msearch intent, and receive more personalized search results.                                                    \n",
       "\u001b[1;33m • \u001b[0m\u001b[1m\"About this image\" feature:\u001b[0m Google is leveraging AI to help users identify AI-generated images and understand   \n",
       "\u001b[1;33m   \u001b[0mtheir context. The \"About this image\" feature provides information on when and where an image was first indexed \n",
       "\u001b[1;33m   \u001b[0mby Google and surfaces web pages where the image appears. This aims to improve transparency and help users      \n",
       "\u001b[1;33m   \u001b[0midentify potential misinformation.                                                                              \n",
       "\u001b[1;33m • \u001b[0m\u001b[1mUniversal Translator:\u001b[0m This experimental tool utilizes generative AI to translate and dub videos while           \n",
       "\u001b[1;33m   \u001b[0mmaintaining the speaker's original voice and lip movements. This technology has the potential to break down     \n",
       "\u001b[1;33m   \u001b[0mlanguage barriers and make video content more accessible to a global audience.                                  \n",
       "\n",
       "It's important to note that Google is still actively developing and refining its generative AI features for search.\n",
       "These are just some examples of how Google is incorporating this technology to enhance the search experience,      \n",
       "combat misinformation, and make information more accessible.                                                       \n"
      ]
     },
     "execution_count": 64,
     "metadata": {},
     "output_type": "execute_result"
    }
   ],
   "source": [
    "%%time\n",
    "\n",
    "request = make_request(\"Describe this video and How is google using generative ai in search? Give response in bullet\", processed_files_search)\n",
    "response = model.generate_content(request,\n",
    "                                  request_options={\"timeout\": 600})\n",
    "rich_Markdown(response.text)"
   ]
  },
  {
   "cell_type": "code",
   "execution_count": 65,
   "id": "c86d2961",
   "metadata": {},
   "outputs": [
    {
     "name": "stdout",
     "output_type": "stream",
     "text": [
      "CPU times: user 43.1 ms, sys: 17 ms, total: 60.1 ms\n",
      "Wall time: 25.1 s\n"
     ]
    },
    {
     "data": {
      "text/html": [
       "<pre style=\"white-space:pre;overflow-x:auto;line-height:normal;font-family:Menlo,'DejaVu Sans Mono',consolas,'Courier New',monospace\">\n",
       "<span style=\"color: #808000; text-decoration-color: #808000; font-weight: bold\"> • </span>The video starts with Google I/O logo.                                                                          \n",
       "<span style=\"color: #808000; text-decoration-color: #808000; font-weight: bold\"> • </span>A Google employee, James Manyika, gives a speech on AI.                                                         \n",
       "<span style=\"color: #808000; text-decoration-color: #808000; font-weight: bold\"> • </span>James Manyika talks about AI and the future of search.                                                          \n",
       "<span style=\"color: #808000; text-decoration-color: #808000; font-weight: bold\"> • </span>He describes Google's work on AI in various fields, including protein structure prediction and language         \n",
       "<span style=\"color: #808000; text-decoration-color: #808000; font-weight: bold\">   </span>translation.                                                                                                    \n",
       "<span style=\"color: #808000; text-decoration-color: #808000; font-weight: bold\"> • </span>Google's AI system, AlphaFold, has predicted the structure of 200 million proteins, which is equivalent to 400  \n",
       "<span style=\"color: #808000; text-decoration-color: #808000; font-weight: bold\">   </span>million years of progress in biological research.                                                               \n",
       "<span style=\"color: #808000; text-decoration-color: #808000; font-weight: bold\"> • </span>Google is also developing AI-powered language translation tools, including a universal translator.              \n",
       "<span style=\"color: #808000; text-decoration-color: #808000; font-weight: bold\"> • </span>He emphasizes the importance of responsible AI development and discusses the need to ensure that AI systems are \n",
       "<span style=\"color: #808000; text-decoration-color: #808000; font-weight: bold\">   </span>built in a way that benefits society and avoids harmful biases.                                                 \n",
       "<span style=\"color: #808000; text-decoration-color: #808000; font-weight: bold\"> • </span>Google is using generative AI in search to help people understand information better. They are also working on  \n",
       "<span style=\"color: #808000; text-decoration-color: #808000; font-weight: bold\">   </span>new tools that will allow people to create and share their own AI-generated content.                            \n",
       "<span style=\"color: #808000; text-decoration-color: #808000; font-weight: bold\"> • </span>James Manyika ends his speech by saying that Google is committed to developing AI that is both bold and         \n",
       "<span style=\"color: #808000; text-decoration-color: #808000; font-weight: bold\">   </span>responsible.                                                                                                    \n",
       "</pre>\n"
      ],
      "text/plain": [
       "\n",
       "\u001b[1;33m • \u001b[0mThe video starts with Google I/O logo.                                                                          \n",
       "\u001b[1;33m • \u001b[0mA Google employee, James Manyika, gives a speech on AI.                                                         \n",
       "\u001b[1;33m • \u001b[0mJames Manyika talks about AI and the future of search.                                                          \n",
       "\u001b[1;33m • \u001b[0mHe describes Google's work on AI in various fields, including protein structure prediction and language         \n",
       "\u001b[1;33m   \u001b[0mtranslation.                                                                                                    \n",
       "\u001b[1;33m • \u001b[0mGoogle's AI system, AlphaFold, has predicted the structure of 200 million proteins, which is equivalent to 400  \n",
       "\u001b[1;33m   \u001b[0mmillion years of progress in biological research.                                                               \n",
       "\u001b[1;33m • \u001b[0mGoogle is also developing AI-powered language translation tools, including a universal translator.              \n",
       "\u001b[1;33m • \u001b[0mHe emphasizes the importance of responsible AI development and discusses the need to ensure that AI systems are \n",
       "\u001b[1;33m   \u001b[0mbuilt in a way that benefits society and avoids harmful biases.                                                 \n",
       "\u001b[1;33m • \u001b[0mGoogle is using generative AI in search to help people understand information better. They are also working on  \n",
       "\u001b[1;33m   \u001b[0mnew tools that will allow people to create and share their own AI-generated content.                            \n",
       "\u001b[1;33m • \u001b[0mJames Manyika ends his speech by saying that Google is committed to developing AI that is both bold and         \n",
       "\u001b[1;33m   \u001b[0mresponsible.                                                                                                    \n"
      ]
     },
     "execution_count": 65,
     "metadata": {},
     "output_type": "execute_result"
    }
   ],
   "source": [
    "%%time\n",
    "\n",
    "request = make_request(\"Describe this video and How is google using generative ai in search? Give response in bullet\", processed_files_search)\n",
    "response = model_flash.generate_content(request,\n",
    "                                  request_options={\"timeout\": 600})\n",
    "rich_Markdown(response.text)"
   ]
  },
  {
   "cell_type": "code",
   "execution_count": 66,
   "id": "20c1ad99",
   "metadata": {},
   "outputs": [
    {
     "name": "stdout",
     "output_type": "stream",
     "text": [
      "{'embedding': [-0.0021609126, -0.003164448, -0.060120765, -0.0071218405, 0.00087754615, 0.04058192, 0.04457149, 0.035524692, -0.047465388, 0.008888606, -0.027958257, 0.011335692, -0.0024438684, 0.0030851841, -0.018796144, -0.055550933, 0.031426456, 0.00065491674, -0.11370059, 0.06370807, -0.021750022, -0.021367034, -0.09982074, -0.008604742, -0.033300586, -0.012815639, 0.07153146, 0.03706478, 0.02297012, 0.043331206, 0.01067061, 0.040685344, 0.03636141, -0.036222056, -0.017799364, -0.014820968, 0.0053205043, -0.017382711, 0.07044941, 0.0020212498, -0.018208733, 0.017558081, 0.006493213, 0.12724239, -0.023805205, 0.010057812, -0.0006948954, 0.07085626, -0.056457285, 0.01831114, 0.09046226, 0.021575559, -0.06656088, 0.026865069, -0.0034812505, -0.0011228691, -0.06535635, -0.0018169151, 0.08672994, 0.02874761, -0.024817277, 0.004653874, -0.058998518, 0.03206169, -0.022604037, -0.015454266, -0.013758667, 0.021129975, -0.047893398, 0.02573244, 0.013028228, -0.018002002, -0.039879415, 0.023450838, -0.004208126, -0.027456919, -0.032786608, -0.03151697, 0.016166035, 0.03236463, -0.018289568, 0.037466213, 0.056439914, 0.018822784, -0.031625833, -0.072923765, 0.030363297, -0.059991967, -0.093077235, 0.04188785, 0.06492768, -0.024198279, 0.039436355, 0.012329493, 0.03184258, -0.01583737, -0.08348356, -0.078226775, 0.050835844, 0.07948488, 0.02687845, -0.0038086297, 0.011806115, -0.08685925, 0.028630126, 0.06522583, -0.015315894, -0.0055563995, -0.021313203, 0.0024531975, -0.0034198368, -0.042501274, 0.012679338, 0.014422546, 0.0045323945, -0.013868992, -0.06397065, -0.02308406, -0.034713272, 0.018988913, 0.00047666705, -0.02198418, -0.027781392, 0.05325701, 0.06580533, -0.009980823, 0.053907834, -0.0274338, -0.056807593, -0.025917295, 0.08114591, -0.05822318, -0.028904257, 0.0018085615, -0.01615572, -0.0061115585, 0.076104954, -0.0005716556, -0.010480926, 0.015245492, 0.029938709, -0.039273947, -0.048696317, 0.040946666, -0.03027104, -0.010457252, 0.01871332, 0.0036463204, 0.018723749, 0.014655201, -0.01162107, -0.0026406597, -0.0030220416, 0.015200439, -0.039530482, -0.02520664, 0.0004117838, -0.006891531, 0.041529354, 0.00037589864, 0.021241354, -0.072420485, -0.007229296, 0.011068717, -0.008963022, -0.032569725, 0.04191558, -0.0040378748, 0.034011792, -0.024002777, -0.019590672, 0.04433918, 0.009472289, 0.008021129, 0.011456312, 0.022549933, -0.011292307, -0.045068257, -0.054616608, -0.063114956, 0.1098535, 0.040681556, -0.036725014, -0.0516959, 0.018958293, 0.048538268, -0.012619441, 0.027218131, 0.023783153, 0.039537083, 0.014628235, -0.0368002, 0.037968893, 0.013039647, 0.01711052, -0.034588154, 0.057411328, -0.08706811, 0.072731294, -0.024207508, -0.0052339216, 0.067509174, 0.00049688853, -0.02011249, -0.03570067, 0.022825453, -0.011088672, -0.0899404, 0.05300786, 0.026679972, -0.06355843, 0.014337063, -0.032153014, -0.08108302, -0.011651656, -0.026982483, 0.051126007, 0.004203101, 0.014722821, -0.06912019, 0.033017915, -0.02038064, -0.01755625, -0.008474079, 0.065096796, 0.044928063, -0.0051354473, -0.06274738, 0.0017220126, 0.0055058836, 0.0015622866, -0.01911462, -0.03496066, 0.029834455, -0.041118104, 0.07154544, 0.0034748958, -0.04466466, 0.0141222915, 0.01237236, -0.020914642, 0.07786713, 0.027588828, -0.021992272, 0.0020365897, 0.010755597, -0.005880726, 0.035968713, 0.009015996, -0.08974196, 0.006003132, 0.030479098, -0.00091704656, 0.022828469, -0.0154529065, -0.03349038, 0.027941458, -0.006255118, -0.065369844, -0.0082471, 0.02437009, -0.0056163543, -0.045140833, -0.03782263, 0.005213898, -0.055022687, -0.030458711, 0.027596708, 0.022788934, 0.008157762, 0.017187998, -0.055844393, -0.019837536, -0.06927516, 0.007553927, 0.04790273, -0.044647854, 0.0069713355, -0.03351755, -0.025211833, 0.028168628, -0.0052331104, -0.0245547, -0.024444215, 0.01357072, -0.029820178, -0.014135859, 0.033803686, 0.0026204896, -0.020539653, 0.039212514, -0.011670823, -0.0361659, -0.017730497, 0.021883996, 0.0073586283, 0.03926711, 0.061975095, 0.0006272935, 0.010340809, 0.028115908, 0.014363926, -0.016072912, 0.044381868, -0.022980072, 0.035098057, -0.01599796, -0.045488346, -0.045004643, 0.0021473933, -0.053043764, -0.007153597, -0.045635164, -0.045014076, -0.023607694, -0.014734066, -0.09750219, -0.019866766, -0.026841233, -0.015316158, 0.015268078, -0.00048555847, -0.041345224, -0.07475691, 0.015535082, 0.0124677755, 0.00026140996, 0.016619474, 0.033363223, 0.025411787, -0.0019558838, 0.021416293, -0.03470333, -0.019757444, -0.021565786, 0.039885085, -0.01373408, 0.011723967, 0.076794945, 0.06626573, -0.0033808837, -0.044787057, 0.057418916, 0.010237068, -0.025212564, 0.056616034, 0.04576788, 0.026372831, 0.008778674, 0.0048026573, -0.009786107, 0.018159354, 0.062457725, -0.0150687415, 0.013217123, -0.03029227, 0.0010112339, -0.008269976, -0.009218753, -0.04567559, 0.009605763, 0.0014220168, -0.031690754, 0.008256998, -0.015835248, -0.015977358, 0.01268417, 0.03587063, -0.017795663, -0.058163222, -0.025969855, -0.022584002, 0.034757074, 0.08295892, 0.019076664, -0.0332361, 0.00086036336, 0.04628674, 0.03058935, -0.033383977, 0.067723125, -0.03997112, 0.034124188, 0.018904991, -0.02292492, 0.028375557, -0.021087326, -0.035895206, 0.08680358, -0.0068046125, -0.04579074, 0.06242105, 0.027131189, -0.012084887, 0.06725185, 0.020581177, -0.05020455, 0.013283424, 0.04394035, 0.04562581, -0.025263086, 0.043101557, 0.028965598, -0.029554756, -0.0167847, -0.04150607, 0.07761759, 0.0035380858, -0.012565968, -0.011527182, -0.037313726, -0.024951845, 0.0058037494, -0.0041362927, -0.009895256, -0.010838153, 0.04118126, -0.058472384, -0.024207024, -0.0027465755, -0.03646396, 0.012527367, 0.098081894, -0.011658653, -0.009657983, -0.048087474, -0.06333792, -0.0223808, 0.021717599, 0.04548322, -0.0014466807, -0.0009415967, -0.05116113, 0.0062555633, -0.03722196, 0.068452954, -0.0050316695, -0.023338528, 0.026488187, -0.014329626, -0.05195839, -0.06642493, 0.05622765, 0.054919224, -0.0037273148, 0.009672952, 0.04097342, 0.07482766, -0.008491798, -0.014202998, 0.0040703663, 0.0106487, -0.009163019, -0.071047954, -0.023398766, 0.054741897, 0.012527596, 0.010918881, 0.031438105, -0.023090048, -0.0076193814, -0.0064941975, 0.06131103, 0.05488424, 0.01629616, 0.009213807, -0.0100128455, -0.0377262, -0.03159498, 0.014321739, 0.021967571, 0.008234688, -0.013605471, -0.036981184, -0.01135382, 0.01644862, 0.0024946348, 0.03515783, -0.0030174106, -0.022457877, -0.04320093, 0.039250292, -0.024913969, 0.02132271, 0.01730469, -0.024088548, -0.06819147, 0.04580229, 0.016943043, 0.01516584, 0.035624187, 0.041948527, -0.0130237285, -0.0024168636, -0.05702779, -0.019560823, 0.085398555, -0.046058115, 0.025539203, 0.015732674, 0.052868392, 0.06709511, 0.002021922, -0.019373171, -0.00077892235, 0.06557979, -0.004795798, -0.015438432, 0.036140103, -0.007846715, 0.049123388, -0.025078002, -0.009602071, 0.044912443, -0.040892642, 0.03634363, -0.03212278, 0.0061166417, -0.00479082, 0.039269347, -0.015599866, -0.023184173, 0.030772438, 0.007796386, 0.031201154, -0.03193287, -0.028833428, 0.04266447, 0.020386947, -0.02652124, -0.018275172, 0.07938739, 0.0062334333, -0.024666376, 0.008384334, 0.004547929, -0.03221171, 0.039343387, -0.015227509, 0.029678503, 0.010926635, -0.023886517, 0.0005733539, 0.0025740184, 0.023600519, -0.010103461, -0.0008779924, 0.08328832, 0.012755144, 0.07518913, 0.0637905, -0.051227637, 0.007082784, 0.03781216, -0.034073085, 0.008693579, 0.017402083, -0.0356867, -0.019208489, 0.01020327, 0.03525957, -0.024630565, -0.00407374, -0.016824434, 0.032621834, 0.049013812, -0.024412578, 0.07099586, -0.03583264, -0.031467717, -0.016279126, -0.045612827, -0.00533646, 0.06096306, -0.029720537, -0.014944071, 0.00055744, 0.062879056, 0.05484685, -0.031882137, 0.009163748, -0.020831022, 0.09729149, 0.00049144815, 0.004821661, -0.002601175, -0.022112133, -0.028212149, 0.037642844, 0.004861345, 0.015579628, 0.01749499, 0.031151878, -0.01616276, 0.021688374, -0.040989432, -0.045957137, -0.0009900918, 0.04005992, -0.01493298, -0.050075203, -0.0029836134, 0.03631741, -0.018724699, -0.0053574108, -0.06539702, -0.054888148, -0.010846952, -0.013839001, -0.026046028, 0.018400697, -0.008679507, 0.0029984873, -0.043884728, -0.07548981, -0.012509257, 0.01683372, 0.00596608, -0.009286801, 0.0048333467, 0.01328815, 0.044487163, 0.042600162, 0.034666244, -0.005864964, 0.032439873, -0.014731301, -0.018062482, 0.012705783, 0.025589705, -0.002188632, 0.044242382, 0.012825207, -0.023868673, -0.014569381, 0.019376064, 0.061704047, -0.024549218, -0.036969163, -0.018150708, 0.021876771, 0.00429977, 0.045531828, 0.005237859, -0.0023627828, 0.027524296, -0.016501067, 0.020849422, 0.059158023, 0.01889507, 0.018007873, 0.06938754, -0.06493021, -0.012838751, -0.018592667, 0.025974024, -0.03138828, 0.0060307872, 0.0070324005, -0.03132151, 0.0039034826, 0.0029629632, 0.002891127, 0.055152304, -0.06054552, -0.016353333, -0.032977678, 0.038495805, 0.013450341, -0.00093515735, -0.0010836896, -0.004386776, -0.0015740322, 0.010137462, -0.00362478, 0.0022091067, -0.012050393, 0.01054007, 0.012293527, 0.065583885, -0.049255308, -0.010393073, 0.007834901, 0.0023164838, 0.020123335, -0.0005748775, 0.047603834, -0.021312136, -0.036511716, 0.020038763, -0.033664703, 0.03470303, -0.039431985, 0.00031958584, -0.006578146, 0.0058009075, 0.010065485, -0.0107763, -0.032846607, 0.018151166, -0.008613524, 0.0466458, -0.06514564, -0.06675929, 0.019312408, 0.051398642, -0.0023500938, -0.013336443, -0.09339641, -0.04417582, -0.046290956, 0.022695858, 0.03327606, 0.025937023, 0.013717734, -0.03037512, 0.028398586, -0.025521653, 0.0076557575, 0.023146354, -0.062285166, -0.055814162, 0.061392765, 0.047085274, 0.025118787, -0.02755592, -0.009233601, -0.04038733, -0.012296262, 0.031200122, 0.019559905, -0.0060071363, -0.015351037, 0.052823436, -0.008057704, -0.03927101, -0.006916383, 0.031160148, -0.041394014, -0.025149174, -0.049297653, -0.014618532, -0.043699507, 0.0009963369, 0.02933131, 0.015508134, -0.023674956, 0.009532896, -0.041661598, -0.0013048653, -0.04823801, 0.008977999, 0.053565104, -0.011124273, -0.009232777, -0.03714648, 0.024631197, 0.0038618585, 0.03643936, 0.006305065, 0.0051025287, 0.039781433, -0.018040739, 0.02533758, -0.029607477, -0.030796519, 0.07133151, -0.01889852]}\n"
     ]
    }
   ],
   "source": [
    "title = \"The next generation of AI for developers and Google Workspace\"\n",
    "sample_text = (\"Title: The next generation of AI for developers and Google Workspace\"\n",
    "    \"\\n\"\n",
    "    \"Full article:\\n\"\n",
    "    \"\\n\"\n",
    "    \"Gemini API & Google AI Studio: An approachable way to explore and prototype with generative AI applications\")\n",
    "\n",
    "model = 'models/text-embedding-004'\n",
    "embedding = genai.embed_content(model=model,\n",
    "                                content=sample_text,\n",
    "                                task_type=\"retrieval_document\",\n",
    "                                title=title)\n",
    "\n",
    "print(embedding)"
   ]
  },
  {
   "cell_type": "code",
   "execution_count": 67,
   "id": "13ad6405",
   "metadata": {},
   "outputs": [
    {
     "data": {
      "text/plain": [
       "768"
      ]
     },
     "execution_count": 67,
     "metadata": {},
     "output_type": "execute_result"
    }
   ],
   "source": [
    "len(embedding['embedding'])\n"
   ]
  },
  {
   "cell_type": "markdown",
   "id": "26799a22",
   "metadata": {},
   "source": [
    "Notebook source - https://github.com/lavinigam-gcp/io24-gemini-api/blob/main/GAI.ipynb \\\n",
    "Video Source - https://io.google/2024/explore/bf83875d-410e-4fb2-b76c-c61df7cec4a4/\n"
   ]
  },
  {
   "cell_type": "code",
   "execution_count": null,
   "id": "e5ba0e22",
   "metadata": {},
   "outputs": [],
   "source": []
  }
 ],
 "metadata": {
  "kernelspec": {
   "display_name": "Python 3 (ipykernel)",
   "language": "python",
   "name": "python3"
  },
  "language_info": {
   "codemirror_mode": {
    "name": "ipython",
    "version": 3
   },
   "file_extension": ".py",
   "mimetype": "text/x-python",
   "name": "python",
   "nbconvert_exporter": "python",
   "pygments_lexer": "ipython3",
   "version": "3.10.9"
  }
 },
 "nbformat": 4,
 "nbformat_minor": 5
}
